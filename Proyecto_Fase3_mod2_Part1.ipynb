{
  "nbformat": 4,
  "nbformat_minor": 0,
  "metadata": {
    "colab": {
      "name": "Proyecto_Fase3_mod2_Part1",
      "provenance": [],
      "collapsed_sections": [],
      "include_colab_link": true
    },
    "kernelspec": {
      "name": "python3",
      "display_name": "Python 3"
    },
    "language_info": {
      "name": "python"
    }
  },
  "cells": [
    {
      "cell_type": "markdown",
      "metadata": {
        "id": "view-in-github",
        "colab_type": "text"
      },
      "source": [
        "<a href=\"https://colab.research.google.com/github/450fausto/Productivity/blob/main/Proyecto_Fase3_mod2_Part1.ipynb\" target=\"_parent\"><img src=\"https://colab.research.google.com/assets/colab-badge.svg\" alt=\"Open In Colab\"/></a>"
      ]
    },
    {
      "cell_type": "markdown",
      "metadata": {
        "id": "5_xhMJY4AYk9"
      },
      "source": [
        "# **BEDU: Data Science 3 (Santander Universidades)**\n",
        "# *Machine Learning*\n",
        "\n",
        "## Predicción de Productividad en Empleados de la Industria Textil"
      ]
    },
    {
      "cell_type": "markdown",
      "metadata": {
        "id": "vg_V6Gg1BDD0"
      },
      "source": [
        "__Equipo 1__\n",
        "\n",
        "El equipo de colaboradores en este trabajo está compuesto por:\n",
        "- __Gómez Barraza__, Karla Daniela\n",
        "- __Guevara Moreno__, Fernando\n",
        "- __Muñoz Esparza__, José Cruz\n",
        "- __Rodríguez Rivera__, Gil Estéfano\n",
        "- __Rosado Martínez__, Ana Elizabeth"
      ]
    },
    {
      "cell_type": "markdown",
      "metadata": {
        "id": "S-s1O-8uND_2"
      },
      "source": [
        "# Postwork 1"
      ]
    },
    {
      "cell_type": "markdown",
      "metadata": {
        "id": "R50kNJNkNQ0x"
      },
      "source": [
        "El objetivo de este postwork es definir el proyecto que se estará desarrollando a lo largo del Módulo de Machine Learning. \n",
        "Durante este bloque se eligió trabajar con el Dataset *Productivity Prediction of Garment Employees*, obtenido de la plataforma *Kaggle*, mismo que se puede visualizar en el siguiente [link](https://www.kaggle.com/ishadss/productivity-prediction-of-garment-employees).\n",
        "Este Dataset nos permitirá hacer un análisis predictivo sobre la productividad de los empleados en la industria textil."
      ]
    },
    {
      "cell_type": "code",
      "metadata": {
        "id": "qt0M7wwInTRF"
      },
      "source": [
        "# Se importan las librerías para el análisis y operacion con datos\n",
        "import pandas as pd\n",
        "import numpy as np\n",
        "\n",
        "# Para graficar y hacer visualizaciones\n",
        "import matplotlib.pyplot as plt\n",
        "import seaborn as sns\n"
      ],
      "execution_count": null,
      "outputs": []
    },
    {
      "cell_type": "code",
      "metadata": {
        "id": "xcbun4d_p46g"
      },
      "source": [
        "# Se lee el dataset a utilizar\n",
        "df=pd.read_csv('https://raw.githubusercontent.com/450fausto/Productivity/main/garments_worker_productivity.csv')"
      ],
      "execution_count": null,
      "outputs": []
    },
    {
      "cell_type": "markdown",
      "metadata": {
        "id": "BLWYGEddAD_I"
      },
      "source": [
        "# Descripción del dataset"
      ]
    },
    {
      "cell_type": "code",
      "metadata": {
        "colab": {
          "base_uri": "https://localhost:8080/"
        },
        "id": "bkPEEZExqBGa",
        "outputId": "24bea458-9e77-4c1a-caa3-20b3cc7baaa5"
      },
      "source": [
        "# Se hace el análisis exploratorio\n",
        "df.info()"
      ],
      "execution_count": null,
      "outputs": [
        {
          "output_type": "stream",
          "name": "stdout",
          "text": [
            "<class 'pandas.core.frame.DataFrame'>\n",
            "RangeIndex: 1197 entries, 0 to 1196\n",
            "Data columns (total 15 columns):\n",
            " #   Column                 Non-Null Count  Dtype  \n",
            "---  ------                 --------------  -----  \n",
            " 0   date                   1197 non-null   object \n",
            " 1   quarter                1197 non-null   object \n",
            " 2   department             1197 non-null   object \n",
            " 3   day                    1197 non-null   object \n",
            " 4   team                   1197 non-null   int64  \n",
            " 5   targeted_productivity  1197 non-null   float64\n",
            " 6   smv                    1197 non-null   float64\n",
            " 7   wip                    691 non-null    float64\n",
            " 8   over_time              1197 non-null   int64  \n",
            " 9   incentive              1197 non-null   int64  \n",
            " 10  idle_time              1197 non-null   float64\n",
            " 11  idle_men               1197 non-null   int64  \n",
            " 12  no_of_style_change     1197 non-null   int64  \n",
            " 13  no_of_workers          1197 non-null   float64\n",
            " 14  actual_productivity    1197 non-null   float64\n",
            "dtypes: float64(6), int64(5), object(4)\n",
            "memory usage: 140.4+ KB\n"
          ]
        }
      ]
    },
    {
      "cell_type": "code",
      "metadata": {
        "colab": {
          "base_uri": "https://localhost:8080/"
        },
        "id": "6sQJK6x7qF5u",
        "outputId": "69df9c67-f736-4183-9818-faf20c524878"
      },
      "source": [
        "df.date.unique()"
      ],
      "execution_count": null,
      "outputs": [
        {
          "output_type": "execute_result",
          "data": {
            "text/plain": [
              "array(['1/1/2015', '1/3/2015', '1/4/2015', '1/5/2015', '1/6/2015',\n",
              "       '1/7/2015', '1/8/2015', '1/10/2015', '1/11/2015', '1/12/2015',\n",
              "       '1/13/2015', '1/14/2015', '1/15/2015', '1/17/2015', '1/18/2015',\n",
              "       '1/19/2015', '1/20/2015', '1/21/2015', '1/22/2015', '1/24/2015',\n",
              "       '1/25/2015', '1/26/2015', '1/27/2015', '1/28/2015', '1/29/2015',\n",
              "       '1/31/2015', '2/1/2015', '2/2/2015', '2/3/2015', '2/4/2015',\n",
              "       '2/5/2015', '2/7/2015', '2/8/2015', '2/9/2015', '2/10/2015',\n",
              "       '2/11/2015', '2/12/2015', '2/14/2015', '2/15/2015', '2/16/2015',\n",
              "       '2/17/2015', '2/18/2015', '2/19/2015', '2/22/2015', '2/23/2015',\n",
              "       '2/24/2015', '2/25/2015', '2/26/2015', '2/28/2015', '3/1/2015',\n",
              "       '3/2/2015', '3/3/2015', '3/4/2015', '3/5/2015', '3/7/2015',\n",
              "       '3/8/2015', '3/9/2015', '3/10/2015', '3/11/2015'], dtype=object)"
            ]
          },
          "metadata": {},
          "execution_count": 12
        }
      ]
    },
    {
      "cell_type": "code",
      "metadata": {
        "colab": {
          "base_uri": "https://localhost:8080/"
        },
        "id": "TOTMM8OMB0nh",
        "outputId": "379fdfdc-d328-4729-dbd7-521254e0bc12"
      },
      "source": [
        "df.quarter.unique()"
      ],
      "execution_count": null,
      "outputs": [
        {
          "output_type": "execute_result",
          "data": {
            "text/plain": [
              "array(['Quarter1', 'Quarter2', 'Quarter3', 'Quarter4', 'Quarter5'],\n",
              "      dtype=object)"
            ]
          },
          "metadata": {},
          "execution_count": 14
        }
      ]
    },
    {
      "cell_type": "markdown",
      "metadata": {
        "id": "g8oOgS71CIJp"
      },
      "source": [
        "Aquí vemos que 'finishing' y 'finishing ' sólo se diferencian por el espacio al final, así que procedemos a eliminar ese espacio. "
      ]
    },
    {
      "cell_type": "code",
      "metadata": {
        "id": "CorKNyUeB-M0"
      },
      "source": [
        "df.department=pd.Series(map(lambda x: x.strip(), df.department))"
      ],
      "execution_count": null,
      "outputs": []
    },
    {
      "cell_type": "code",
      "metadata": {
        "colab": {
          "base_uri": "https://localhost:8080/"
        },
        "id": "mF02DjptEVaM",
        "outputId": "620298a0-b04f-4f12-bbf1-99f9a5df64f1"
      },
      "source": [
        "df.department.unique()"
      ],
      "execution_count": null,
      "outputs": [
        {
          "output_type": "execute_result",
          "data": {
            "text/plain": [
              "array(['sweing', 'finishing'], dtype=object)"
            ]
          },
          "metadata": {},
          "execution_count": 39
        }
      ]
    },
    {
      "cell_type": "code",
      "metadata": {
        "colab": {
          "base_uri": "https://localhost:8080/"
        },
        "id": "TMe8TD7JEpiE",
        "outputId": "455146da-ea8c-4932-ee6f-bf6f09466ac2"
      },
      "source": [
        "df.day.unique()"
      ],
      "execution_count": null,
      "outputs": [
        {
          "output_type": "execute_result",
          "data": {
            "text/plain": [
              "array(['Thursday', 'Saturday', 'Sunday', 'Monday', 'Tuesday', 'Wednesday'],\n",
              "      dtype=object)"
            ]
          },
          "metadata": {},
          "execution_count": 40
        }
      ]
    },
    {
      "cell_type": "code",
      "metadata": {
        "colab": {
          "base_uri": "https://localhost:8080/"
        },
        "id": "QK1G5ag_E2XE",
        "outputId": "0d2040ec-1b6d-45db-ec3f-ef6e7c4ad8b3"
      },
      "source": [
        "np.sort(df.team.unique())"
      ],
      "execution_count": null,
      "outputs": [
        {
          "output_type": "execute_result",
          "data": {
            "text/plain": [
              "array([ 1,  2,  3,  4,  5,  6,  7,  8,  9, 10, 11, 12])"
            ]
          },
          "metadata": {},
          "execution_count": 44
        }
      ]
    },
    {
      "cell_type": "code",
      "metadata": {
        "colab": {
          "base_uri": "https://localhost:8080/"
        },
        "id": "flmH4_m7FMI_",
        "outputId": "362dd5a6-4618-48ae-a02f-3bafa4f2c93a"
      },
      "source": [
        "np.sort(df.targeted_productivity.unique())"
      ],
      "execution_count": null,
      "outputs": [
        {
          "output_type": "execute_result",
          "data": {
            "text/plain": [
              "array([0.07, 0.35, 0.4 , 0.5 , 0.6 , 0.65, 0.7 , 0.75, 0.8 ])"
            ]
          },
          "metadata": {},
          "execution_count": 46
        }
      ]
    },
    {
      "cell_type": "code",
      "metadata": {
        "colab": {
          "base_uri": "https://localhost:8080/"
        },
        "id": "fi23XCy2FJcP",
        "outputId": "a999918e-53de-4bb8-f39c-d3d5d4277771"
      },
      "source": [
        "np.sort(df.smv.unique())"
      ],
      "execution_count": null,
      "outputs": [
        {
          "output_type": "execute_result",
          "data": {
            "text/plain": [
              "array([ 2.9 ,  3.9 ,  3.94,  4.08,  4.15,  4.3 ,  4.6 ,  5.13, 10.05,\n",
              "       11.41, 11.61, 12.52, 14.61, 14.89, 15.09, 15.26, 15.28, 16.1 ,\n",
              "       18.22, 18.79, 19.31, 19.68, 19.87, 20.1 , 20.2 , 20.4 , 20.55,\n",
              "       20.79, 21.25, 21.82, 21.98, 22.4 , 22.52, 22.53, 22.94, 23.41,\n",
              "       23.54, 23.69, 24.26, 25.31, 25.9 , 26.16, 26.66, 26.82, 26.87,\n",
              "       27.13, 27.48, 28.08, 29.12, 29.4 , 30.1 , 30.33, 30.4 , 30.48,\n",
              "       31.83, 38.09, 40.99, 41.19, 42.27, 42.41, 42.97, 45.67, 48.18,\n",
              "       48.68, 48.84, 49.1 , 50.48, 50.89, 51.02, 54.56])"
            ]
          },
          "metadata": {},
          "execution_count": 48
        }
      ]
    },
    {
      "cell_type": "code",
      "metadata": {
        "colab": {
          "base_uri": "https://localhost:8080/"
        },
        "id": "Q9KL_XNCG28q",
        "outputId": "dcd8e324-a80b-4e58-8159-2dae8a756f96"
      },
      "source": [
        "df.wip.dtype"
      ],
      "execution_count": null,
      "outputs": [
        {
          "output_type": "execute_result",
          "data": {
            "text/plain": [
              "dtype('float64')"
            ]
          },
          "metadata": {},
          "execution_count": 50
        }
      ]
    },
    {
      "cell_type": "code",
      "metadata": {
        "colab": {
          "base_uri": "https://localhost:8080/"
        },
        "id": "_PgLYSI3HX6l",
        "outputId": "34443aa2-cffc-4c7f-fd7b-3a7ecc8640ed"
      },
      "source": [
        "df.over_time.unique().dtype"
      ],
      "execution_count": null,
      "outputs": [
        {
          "output_type": "execute_result",
          "data": {
            "text/plain": [
              "dtype('int64')"
            ]
          },
          "metadata": {},
          "execution_count": 52
        }
      ]
    },
    {
      "cell_type": "code",
      "metadata": {
        "colab": {
          "base_uri": "https://localhost:8080/"
        },
        "id": "JwfnVvXVHlA-",
        "outputId": "81c0f708-6cbc-4adf-dd99-a35b4ef04f16"
      },
      "source": [
        "np.sort(df.incentive.unique())"
      ],
      "execution_count": null,
      "outputs": [
        {
          "output_type": "execute_result",
          "data": {
            "text/plain": [
              "array([   0,   21,   23,   24,   25,   26,   27,   29,   30,   32,   33,\n",
              "         34,   35,   37,   38,   40,   44,   45,   46,   49,   50,   53,\n",
              "         54,   55,   56,   60,   62,   63,   65,   69,   70,   75,   81,\n",
              "         88,   90,   93,   94,   98,  100,  113,  119,  138,  960, 1080,\n",
              "       1200, 1440, 2880, 3600])"
            ]
          },
          "metadata": {},
          "execution_count": 54
        }
      ]
    },
    {
      "cell_type": "code",
      "metadata": {
        "colab": {
          "base_uri": "https://localhost:8080/"
        },
        "id": "4mZd9A3RH7R1",
        "outputId": "60a2459c-72c1-4c6a-cf2c-43cdd93707c5"
      },
      "source": [
        "np.sort(df.idle_time.unique())"
      ],
      "execution_count": null,
      "outputs": [
        {
          "output_type": "execute_result",
          "data": {
            "text/plain": [
              "array([  0. ,   2. ,   3.5,   4. ,   4.5,   5. ,   6.5,   8. ,  90. ,\n",
              "       150. , 270. , 300. ])"
            ]
          },
          "metadata": {},
          "execution_count": 56
        }
      ]
    },
    {
      "cell_type": "code",
      "metadata": {
        "colab": {
          "base_uri": "https://localhost:8080/"
        },
        "id": "XGQL8WUOIa4U",
        "outputId": "4db0cb12-3fc1-408c-cbf8-9bff8aa2307c"
      },
      "source": [
        "np.sort(df.idle_men.unique())"
      ],
      "execution_count": null,
      "outputs": [
        {
          "output_type": "execute_result",
          "data": {
            "text/plain": [
              "array([ 0, 10, 15, 20, 25, 30, 35, 37, 40, 45])"
            ]
          },
          "metadata": {},
          "execution_count": 57
        }
      ]
    },
    {
      "cell_type": "code",
      "metadata": {
        "colab": {
          "base_uri": "https://localhost:8080/"
        },
        "id": "AWxlt1biIhuy",
        "outputId": "ba3b1ef1-476f-42d0-d90f-7605729af462"
      },
      "source": [
        "df.no_of_style_change.unique()"
      ],
      "execution_count": null,
      "outputs": [
        {
          "output_type": "execute_result",
          "data": {
            "text/plain": [
              "array([0, 1, 2])"
            ]
          },
          "metadata": {},
          "execution_count": 58
        }
      ]
    },
    {
      "cell_type": "code",
      "metadata": {
        "colab": {
          "base_uri": "https://localhost:8080/"
        },
        "id": "kQb8lgfpIrNf",
        "outputId": "3c2cbd78-7ac2-4bdc-a693-a87c63c727ac"
      },
      "source": [
        "np.sort(df.no_of_workers.unique())"
      ],
      "execution_count": null,
      "outputs": [
        {
          "output_type": "execute_result",
          "data": {
            "text/plain": [
              "array([ 2. ,  4. ,  5. ,  6. ,  7. ,  8. ,  9. , 10. , 11. , 12. , 14. ,\n",
              "       15. , 16. , 17. , 18. , 19. , 20. , 21. , 22. , 24. , 25. , 26. ,\n",
              "       27. , 28. , 29.5, 30.5, 31. , 31.5, 32. , 33. , 33.5, 34. , 35. ,\n",
              "       38. , 39. , 42. , 44. , 45. , 46. , 47. , 48. , 49. , 50. , 51. ,\n",
              "       51.5, 52. , 53. , 54. , 54.5, 55. , 55.5, 56. , 56.5, 57. , 57.5,\n",
              "       58. , 58.5, 59. , 59.5, 60. , 89. ])"
            ]
          },
          "metadata": {},
          "execution_count": 60
        }
      ]
    },
    {
      "cell_type": "code",
      "metadata": {
        "colab": {
          "base_uri": "https://localhost:8080/"
        },
        "id": "2HgmgxqZJQzn",
        "outputId": "31375b1e-044d-4a9f-afeb-e914f8075caf"
      },
      "source": [
        "df.actual_productivity.unique().dtype"
      ],
      "execution_count": null,
      "outputs": [
        {
          "output_type": "execute_result",
          "data": {
            "text/plain": [
              "dtype('float64')"
            ]
          },
          "metadata": {},
          "execution_count": 62
        }
      ]
    },
    {
      "cell_type": "markdown",
      "metadata": {
        "id": "wWeYAwfPrbXd"
      },
      "source": [
        "## Descripción de las columnas\n",
        "\n",
        "- date: La fecha en formato MM-DD-YYYY\n",
        "- quarter: la porción del mes. Un mes dividido en cuatro partes\n",
        "- department: Departamento asociado a la instancia\n",
        "- team: Número de equipo\n",
        "- targeted_productivity: Target productivity para cada equipo y para cada día\n",
        "- smv: Standard Minute Value, es el tiempo asignado para una tarea\n",
        "- wip: Work in progress. Incluye el número de artículos sin terminar\n",
        "- over_time: Representa la cantidad de tiempo extra por cada equipo en minutos\n",
        "- incentive: Representa la cantidad de incentivo financiero (en BDT) que permite o motiva un curso de acción en particular.\n",
        "- idle_time: La cantidad de tiempo en que la producción fue interrumpida debido a diversas razones \n",
        "- idle_men: Cantidad de trabajadores inactivos debido a una interrupción\n",
        "- no_of_style_change: Número de cambios de estilo\n",
        "- no_of_workers: Número de trabajadores por equipo\n",
        "- actual_productivity: El valor de productividad real que varía\n",
        "de 0.0 a 1.0\n",
        "\n"
      ]
    },
    {
      "cell_type": "code",
      "metadata": {
        "colab": {
          "base_uri": "https://localhost:8080/",
          "height": 224
        },
        "id": "Dw09IjU9siGG",
        "outputId": "0e1faf19-fd97-42a0-86e7-9d1eeed4dc61"
      },
      "source": [
        "df.head()"
      ],
      "execution_count": null,
      "outputs": [
        {
          "output_type": "execute_result",
          "data": {
            "text/html": [
              "<div>\n",
              "<style scoped>\n",
              "    .dataframe tbody tr th:only-of-type {\n",
              "        vertical-align: middle;\n",
              "    }\n",
              "\n",
              "    .dataframe tbody tr th {\n",
              "        vertical-align: top;\n",
              "    }\n",
              "\n",
              "    .dataframe thead th {\n",
              "        text-align: right;\n",
              "    }\n",
              "</style>\n",
              "<table border=\"1\" class=\"dataframe\">\n",
              "  <thead>\n",
              "    <tr style=\"text-align: right;\">\n",
              "      <th></th>\n",
              "      <th>date</th>\n",
              "      <th>quarter</th>\n",
              "      <th>department</th>\n",
              "      <th>day</th>\n",
              "      <th>team</th>\n",
              "      <th>targeted_productivity</th>\n",
              "      <th>smv</th>\n",
              "      <th>wip</th>\n",
              "      <th>over_time</th>\n",
              "      <th>incentive</th>\n",
              "      <th>idle_time</th>\n",
              "      <th>idle_men</th>\n",
              "      <th>no_of_style_change</th>\n",
              "      <th>no_of_workers</th>\n",
              "      <th>actual_productivity</th>\n",
              "    </tr>\n",
              "  </thead>\n",
              "  <tbody>\n",
              "    <tr>\n",
              "      <th>0</th>\n",
              "      <td>1/1/2015</td>\n",
              "      <td>Quarter1</td>\n",
              "      <td>sweing</td>\n",
              "      <td>Thursday</td>\n",
              "      <td>8</td>\n",
              "      <td>0.80</td>\n",
              "      <td>26.16</td>\n",
              "      <td>1108.0</td>\n",
              "      <td>7080</td>\n",
              "      <td>98</td>\n",
              "      <td>0.0</td>\n",
              "      <td>0</td>\n",
              "      <td>0</td>\n",
              "      <td>59.0</td>\n",
              "      <td>0.940725</td>\n",
              "    </tr>\n",
              "    <tr>\n",
              "      <th>1</th>\n",
              "      <td>1/1/2015</td>\n",
              "      <td>Quarter1</td>\n",
              "      <td>finishing</td>\n",
              "      <td>Thursday</td>\n",
              "      <td>1</td>\n",
              "      <td>0.75</td>\n",
              "      <td>3.94</td>\n",
              "      <td>NaN</td>\n",
              "      <td>960</td>\n",
              "      <td>0</td>\n",
              "      <td>0.0</td>\n",
              "      <td>0</td>\n",
              "      <td>0</td>\n",
              "      <td>8.0</td>\n",
              "      <td>0.886500</td>\n",
              "    </tr>\n",
              "    <tr>\n",
              "      <th>2</th>\n",
              "      <td>1/1/2015</td>\n",
              "      <td>Quarter1</td>\n",
              "      <td>sweing</td>\n",
              "      <td>Thursday</td>\n",
              "      <td>11</td>\n",
              "      <td>0.80</td>\n",
              "      <td>11.41</td>\n",
              "      <td>968.0</td>\n",
              "      <td>3660</td>\n",
              "      <td>50</td>\n",
              "      <td>0.0</td>\n",
              "      <td>0</td>\n",
              "      <td>0</td>\n",
              "      <td>30.5</td>\n",
              "      <td>0.800570</td>\n",
              "    </tr>\n",
              "    <tr>\n",
              "      <th>3</th>\n",
              "      <td>1/1/2015</td>\n",
              "      <td>Quarter1</td>\n",
              "      <td>sweing</td>\n",
              "      <td>Thursday</td>\n",
              "      <td>12</td>\n",
              "      <td>0.80</td>\n",
              "      <td>11.41</td>\n",
              "      <td>968.0</td>\n",
              "      <td>3660</td>\n",
              "      <td>50</td>\n",
              "      <td>0.0</td>\n",
              "      <td>0</td>\n",
              "      <td>0</td>\n",
              "      <td>30.5</td>\n",
              "      <td>0.800570</td>\n",
              "    </tr>\n",
              "    <tr>\n",
              "      <th>4</th>\n",
              "      <td>1/1/2015</td>\n",
              "      <td>Quarter1</td>\n",
              "      <td>sweing</td>\n",
              "      <td>Thursday</td>\n",
              "      <td>6</td>\n",
              "      <td>0.80</td>\n",
              "      <td>25.90</td>\n",
              "      <td>1170.0</td>\n",
              "      <td>1920</td>\n",
              "      <td>50</td>\n",
              "      <td>0.0</td>\n",
              "      <td>0</td>\n",
              "      <td>0</td>\n",
              "      <td>56.0</td>\n",
              "      <td>0.800382</td>\n",
              "    </tr>\n",
              "  </tbody>\n",
              "</table>\n",
              "</div>"
            ],
            "text/plain": [
              "       date   quarter  ... no_of_workers actual_productivity\n",
              "0  1/1/2015  Quarter1  ...          59.0            0.940725\n",
              "1  1/1/2015  Quarter1  ...           8.0            0.886500\n",
              "2  1/1/2015  Quarter1  ...          30.5            0.800570\n",
              "3  1/1/2015  Quarter1  ...          30.5            0.800570\n",
              "4  1/1/2015  Quarter1  ...          56.0            0.800382\n",
              "\n",
              "[5 rows x 15 columns]"
            ]
          },
          "metadata": {},
          "execution_count": 63
        }
      ]
    },
    {
      "cell_type": "markdown",
      "metadata": {
        "id": "uaUHD6NEOrM2"
      },
      "source": [
        "# Postwork 2\n",
        "\n",
        "La intención de este postwork es crear módulos de separación, evaluación y validación de algoritmos de Machine Learning. El módulo MLUtilities se puede encontrar en el siguiente [Notebook](https://colab.research.google.com/drive/1lvk9P-tE73ORJYZCYEC8zCSAPq1KpcVv#scrollTo=wfxXRPatCOw7)."
      ]
    },
    {
      "cell_type": "markdown",
      "metadata": {
        "id": "EntEWAb3Txqj"
      },
      "source": [
        "# Postwork 3\n",
        "\n",
        "- Evalúa si tu proyecto puede resolverse con un algoritmo no supervisado. Recuerda que puede que las clases y categorías que obtengas no sean las que esperas. Pregúntate si el proyecto se verá beneficiado con la agrupación por clústeres.\n",
        "- Si es el caso, primero enuncia qué es lo que deseas lograr: recuerda que de nada sirve el mejor algoritmo de Machine Learning si no tienes idea de lo que quieres obtener.\n",
        "- Lleva tu bitácora de experimentos y prueba si te funciona el variar la cantidad de clústeres: ¿Tener menos clústeres te da mejores resultados? ¿Tener más clústeres te ayuda a tomar mejores decisiones?\n",
        "- Construye tu proyecto con Jupyter Notebook. Utiliza lo que vimos en esta clase para ello. Una vez que has probado que funciona adecuadamente, haz un archivo de Python 3 con la configuración elegida y el proyecto elegido. - Recuerda que necesitarás presentar evidencias de que tu hipótesis se respondió.\n"
      ]
    },
    {
      "cell_type": "code",
      "metadata": {
        "id": "czOk1EA0dLTb"
      },
      "source": [
        "df_sweing=df[df.department=='sweing']\n",
        "df_finishing=df[df.department=='finishing']"
      ],
      "execution_count": null,
      "outputs": []
    },
    {
      "cell_type": "code",
      "metadata": {
        "colab": {
          "base_uri": "https://localhost:8080/",
          "height": 328
        },
        "id": "yhXsYZ65UOh3",
        "outputId": "e0e7d31d-0845-475b-9c47-a84bd720dadf"
      },
      "source": [
        "df_finishing[['targeted_productivity', 'smv', 'wip', 'over_time', 'incentive', 'idle_time', 'idle_men', 'no_of_workers', 'actual_productivity']].corr()"
      ],
      "execution_count": null,
      "outputs": [
        {
          "output_type": "execute_result",
          "data": {
            "text/html": [
              "<div>\n",
              "<style scoped>\n",
              "    .dataframe tbody tr th:only-of-type {\n",
              "        vertical-align: middle;\n",
              "    }\n",
              "\n",
              "    .dataframe tbody tr th {\n",
              "        vertical-align: top;\n",
              "    }\n",
              "\n",
              "    .dataframe thead th {\n",
              "        text-align: right;\n",
              "    }\n",
              "</style>\n",
              "<table border=\"1\" class=\"dataframe\">\n",
              "  <thead>\n",
              "    <tr style=\"text-align: right;\">\n",
              "      <th></th>\n",
              "      <th>targeted_productivity</th>\n",
              "      <th>smv</th>\n",
              "      <th>wip</th>\n",
              "      <th>over_time</th>\n",
              "      <th>incentive</th>\n",
              "      <th>idle_time</th>\n",
              "      <th>idle_men</th>\n",
              "      <th>no_of_workers</th>\n",
              "      <th>actual_productivity</th>\n",
              "    </tr>\n",
              "  </thead>\n",
              "  <tbody>\n",
              "    <tr>\n",
              "      <th>targeted_productivity</th>\n",
              "      <td>1.000000</td>\n",
              "      <td>-0.049843</td>\n",
              "      <td>NaN</td>\n",
              "      <td>0.000947</td>\n",
              "      <td>-0.024134</td>\n",
              "      <td>NaN</td>\n",
              "      <td>NaN</td>\n",
              "      <td>-0.009616</td>\n",
              "      <td>0.097510</td>\n",
              "    </tr>\n",
              "    <tr>\n",
              "      <th>smv</th>\n",
              "      <td>-0.049843</td>\n",
              "      <td>1.000000</td>\n",
              "      <td>NaN</td>\n",
              "      <td>0.149988</td>\n",
              "      <td>-0.046003</td>\n",
              "      <td>NaN</td>\n",
              "      <td>NaN</td>\n",
              "      <td>0.204799</td>\n",
              "      <td>0.205018</td>\n",
              "    </tr>\n",
              "    <tr>\n",
              "      <th>wip</th>\n",
              "      <td>NaN</td>\n",
              "      <td>NaN</td>\n",
              "      <td>NaN</td>\n",
              "      <td>NaN</td>\n",
              "      <td>NaN</td>\n",
              "      <td>NaN</td>\n",
              "      <td>NaN</td>\n",
              "      <td>NaN</td>\n",
              "      <td>NaN</td>\n",
              "    </tr>\n",
              "    <tr>\n",
              "      <th>over_time</th>\n",
              "      <td>0.000947</td>\n",
              "      <td>0.149988</td>\n",
              "      <td>NaN</td>\n",
              "      <td>1.000000</td>\n",
              "      <td>-0.131287</td>\n",
              "      <td>NaN</td>\n",
              "      <td>NaN</td>\n",
              "      <td>0.626890</td>\n",
              "      <td>0.049609</td>\n",
              "    </tr>\n",
              "    <tr>\n",
              "      <th>incentive</th>\n",
              "      <td>-0.024134</td>\n",
              "      <td>-0.046003</td>\n",
              "      <td>NaN</td>\n",
              "      <td>-0.131287</td>\n",
              "      <td>1.000000</td>\n",
              "      <td>NaN</td>\n",
              "      <td>NaN</td>\n",
              "      <td>0.024621</td>\n",
              "      <td>0.013277</td>\n",
              "    </tr>\n",
              "    <tr>\n",
              "      <th>idle_time</th>\n",
              "      <td>NaN</td>\n",
              "      <td>NaN</td>\n",
              "      <td>NaN</td>\n",
              "      <td>NaN</td>\n",
              "      <td>NaN</td>\n",
              "      <td>NaN</td>\n",
              "      <td>NaN</td>\n",
              "      <td>NaN</td>\n",
              "      <td>NaN</td>\n",
              "    </tr>\n",
              "    <tr>\n",
              "      <th>idle_men</th>\n",
              "      <td>NaN</td>\n",
              "      <td>NaN</td>\n",
              "      <td>NaN</td>\n",
              "      <td>NaN</td>\n",
              "      <td>NaN</td>\n",
              "      <td>NaN</td>\n",
              "      <td>NaN</td>\n",
              "      <td>NaN</td>\n",
              "      <td>NaN</td>\n",
              "    </tr>\n",
              "    <tr>\n",
              "      <th>no_of_workers</th>\n",
              "      <td>-0.009616</td>\n",
              "      <td>0.204799</td>\n",
              "      <td>NaN</td>\n",
              "      <td>0.626890</td>\n",
              "      <td>0.024621</td>\n",
              "      <td>NaN</td>\n",
              "      <td>NaN</td>\n",
              "      <td>1.000000</td>\n",
              "      <td>0.274002</td>\n",
              "    </tr>\n",
              "    <tr>\n",
              "      <th>actual_productivity</th>\n",
              "      <td>0.097510</td>\n",
              "      <td>0.205018</td>\n",
              "      <td>NaN</td>\n",
              "      <td>0.049609</td>\n",
              "      <td>0.013277</td>\n",
              "      <td>NaN</td>\n",
              "      <td>NaN</td>\n",
              "      <td>0.274002</td>\n",
              "      <td>1.000000</td>\n",
              "    </tr>\n",
              "  </tbody>\n",
              "</table>\n",
              "</div>"
            ],
            "text/plain": [
              "                       targeted_productivity  ...  actual_productivity\n",
              "targeted_productivity               1.000000  ...             0.097510\n",
              "smv                                -0.049843  ...             0.205018\n",
              "wip                                      NaN  ...                  NaN\n",
              "over_time                           0.000947  ...             0.049609\n",
              "incentive                          -0.024134  ...             0.013277\n",
              "idle_time                                NaN  ...                  NaN\n",
              "idle_men                                 NaN  ...                  NaN\n",
              "no_of_workers                      -0.009616  ...             0.274002\n",
              "actual_productivity                 0.097510  ...             1.000000\n",
              "\n",
              "[9 rows x 9 columns]"
            ]
          },
          "metadata": {},
          "execution_count": 85
        }
      ]
    },
    {
      "cell_type": "code",
      "metadata": {
        "colab": {
          "base_uri": "https://localhost:8080/",
          "height": 282
        },
        "id": "LFzbkM7ubyb0",
        "outputId": "dc83d575-f163-4ae2-9fe3-81486a246999"
      },
      "source": [
        "plt.scatter(df_sweing.incentive, df_sweing.targeted_productivity, c=df_sweing.actual_productivity)"
      ],
      "execution_count": null,
      "outputs": [
        {
          "output_type": "execute_result",
          "data": {
            "text/plain": [
              "<matplotlib.collections.PathCollection at 0x7f0d925fcd50>"
            ]
          },
          "metadata": {},
          "execution_count": 88
        },
        {
          "output_type": "display_data",
          "data": {
            "image/png": "[encoded data removed]",
            "text/plain": [
              "<Figure size 432x288 with 1 Axes>"
            ]
          },
          "metadata": {
            "needs_background": "light"
          }
        }
      ]
    }
  ]
}