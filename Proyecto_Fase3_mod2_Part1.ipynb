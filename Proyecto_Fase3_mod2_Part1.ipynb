{
  "nbformat": 4,
  "nbformat_minor": 0,
  "metadata": {
    "colab": {
      "name": "Proyecto_Fase3_mod2_Part1",
      "provenance": [],
      "collapsed_sections": [
        "S-s1O-8uND_2"
      ],
      "include_colab_link": true
    },
    "kernelspec": {
      "name": "python3",
      "display_name": "Python 3"
    },
    "language_info": {
      "name": "python"
    }
  },
  "cells": [
    {
      "cell_type": "markdown",
      "metadata": {
        "id": "view-in-github",
        "colab_type": "text"
      },
      "source": [
        "<a href=\"https://colab.research.google.com/github/450fausto/Productivity/blob/main/Proyecto_Fase3_mod2_Part1.ipynb\" target=\"_parent\"><img src=\"https://colab.research.google.com/assets/colab-badge.svg\" alt=\"Open In Colab\"/></a>"
      ]
    },
    {
      "cell_type": "markdown",
      "metadata": {
        "id": "5_xhMJY4AYk9"
      },
      "source": [
        "# **BEDU: Data Science 3 (Santander Universidades)**\n",
        "# *Machine Learning*\n",
        "\n",
        "## Predicción de Productividad en Empleados de la Industria Textil"
      ]
    },
    {
      "cell_type": "markdown",
      "metadata": {
        "id": "vg_V6Gg1BDD0"
      },
      "source": [
        "__Equipo 1__\n",
        "\n",
        "El equipo de colaboradores en este trabajo está compuesto por:\n",
        "- __Gómez Barraza__, Karla Daniela\n",
        "- __Guevara Moreno__, Fernando\n",
        "- __Muñoz Esparza__, José Cruz\n",
        "- __Rodríguez Rivera__, Gil Estéfano\n",
        "- __Rosado Martínez__, Ana Elizabeth\n",
        "\n",
        "El dataset utilizado se encuentra en el [siguiente enlace](https://www.kaggle.com/ishadss/productivity-prediction-of-garment-employees).\n",
        "\n",
        "En el siguiente artículo se detalla el significado de las columnas del dataset:\n",
        "\n",
        "Imran, A. A., Amin, M. N., Islam Rifat, M. R., & Mehreen, S. (2019). _Deep Neural Network Approach for Predicting the Productivity of Garment Employees_. 2019 6th International Conference on Control, Decision and Information Technologies (CoDIT)"
      ]
    },
    {
      "cell_type": "markdown",
      "metadata": {
        "id": "S-s1O-8uND_2"
      },
      "source": [
        "# Postwork 1\n",
        "El objetivo de este postwork es definir el proyecto que se estará desarrollando a lo largo del Módulo de Machine Learning. \n",
        "Durante este bloque se eligió trabajar con el Dataset *Productivity Prediction of Garment Employees*, obtenido de la plataforma *Kaggle*, mismo que se puede visualizar en el siguiente [link](https://www.kaggle.com/ishadss/productivity-prediction-of-garment-employees).\n",
        "Este Dataset nos permitirá hacer un análisis predictivo sobre la productividad de los empleados en la industria textil."
      ]
    },
    {
      "cell_type": "code",
      "metadata": {
        "id": "qt0M7wwInTRF"
      },
      "source": [
        "# Se importan las librerías para el análisis y operacion con datos\n",
        "import pandas as pd\n",
        "import numpy as np\n",
        "\n",
        "# Para graficar y hacer visualizaciones\n",
        "import matplotlib.pyplot as plt\n",
        "import seaborn as sns\n",
        "\n",
        "# Algoritmos de ML y utilidades\n",
        "# Preprocesamiento\n",
        "from sklearn.preprocessing import StandardScaler\n",
        "from sklearn.decomposition import PCA\n",
        "from sklearn.model_selection import train_test_split\n",
        "\n",
        "# Clusterización\n",
        "from sklearn.cluster import KMeans\n",
        "\n",
        "# Regresión\n",
        "from sklearn.linear_model import LinearRegression\n",
        "\n",
        "# Red neuronal\n",
        "from tensorflow.keras.utils import to_categorical\n",
        "from keras.models import Sequential\n",
        "from keras.layers import Dense\n",
        "\n",
        "# Evaluación\n",
        "from sklearn.metrics import mean_squared_error\n",
        "from sklearn.metrics import r2_score\n",
        "from sklearn.model_selection import KFold"
      ],
      "execution_count": null,
      "outputs": []
    },
    {
      "cell_type": "code",
      "metadata": {
        "id": "xcbun4d_p46g"
      },
      "source": [
        "# Se lee el dataset a utilizar\n",
        "df=pd.read_csv('https://raw.githubusercontent.com/450fausto/Productivity/main/garments_worker_productivity.csv')"
      ],
      "execution_count": null,
      "outputs": []
    },
    {
      "cell_type": "markdown",
      "metadata": {
        "id": "BLWYGEddAD_I"
      },
      "source": [
        "## Descripción del dataset"
      ]
    },
    {
      "cell_type": "code",
      "metadata": {
        "colab": {
          "base_uri": "https://localhost:8080/"
        },
        "id": "bkPEEZExqBGa",
        "outputId": "73c28fa1-2f76-4381-d551-e78bb6990687"
      },
      "source": [
        "# Se hace el análisis exploratorio\n",
        "df.info()"
      ],
      "execution_count": null,
      "outputs": [
        {
          "output_type": "stream",
          "name": "stdout",
          "text": [
            "<class 'pandas.core.frame.DataFrame'>\n",
            "RangeIndex: 1197 entries, 0 to 1196\n",
            "Data columns (total 15 columns):\n",
            " #   Column                 Non-Null Count  Dtype  \n",
            "---  ------                 --------------  -----  \n",
            " 0   date                   1197 non-null   object \n",
            " 1   quarter                1197 non-null   object \n",
            " 2   department             1197 non-null   object \n",
            " 3   day                    1197 non-null   object \n",
            " 4   team                   1197 non-null   int64  \n",
            " 5   targeted_productivity  1197 non-null   float64\n",
            " 6   smv                    1197 non-null   float64\n",
            " 7   wip                    691 non-null    float64\n",
            " 8   over_time              1197 non-null   int64  \n",
            " 9   incentive              1197 non-null   int64  \n",
            " 10  idle_time              1197 non-null   float64\n",
            " 11  idle_men               1197 non-null   int64  \n",
            " 12  no_of_style_change     1197 non-null   int64  \n",
            " 13  no_of_workers          1197 non-null   float64\n",
            " 14  actual_productivity    1197 non-null   float64\n",
            "dtypes: float64(6), int64(5), object(4)\n",
            "memory usage: 140.4+ KB\n"
          ]
        }
      ]
    },
    {
      "cell_type": "code",
      "metadata": {
        "colab": {
          "base_uri": "https://localhost:8080/"
        },
        "id": "kbnqNvwbu6rS",
        "outputId": "1400c808-e682-4a8b-d951-63c611c66dc2"
      },
      "source": [
        "df.describe()"
      ],
      "execution_count": null,
      "outputs": [
        {
          "output_type": "execute_result",
          "data": {
            "text/html": [
              "<div>\n",
              "<style scoped>\n",
              "    .dataframe tbody tr th:only-of-type {\n",
              "        vertical-align: middle;\n",
              "    }\n",
              "\n",
              "    .dataframe tbody tr th {\n",
              "        vertical-align: top;\n",
              "    }\n",
              "\n",
              "    .dataframe thead th {\n",
              "        text-align: right;\n",
              "    }\n",
              "</style>\n",
              "<table border=\"1\" class=\"dataframe\">\n",
              "  <thead>\n",
              "    <tr style=\"text-align: right;\">\n",
              "      <th></th>\n",
              "      <th>team</th>\n",
              "      <th>targeted_productivity</th>\n",
              "      <th>smv</th>\n",
              "      <th>wip</th>\n",
              "      <th>over_time</th>\n",
              "      <th>incentive</th>\n",
              "      <th>idle_time</th>\n",
              "      <th>idle_men</th>\n",
              "      <th>no_of_style_change</th>\n",
              "      <th>no_of_workers</th>\n",
              "      <th>actual_productivity</th>\n",
              "    </tr>\n",
              "  </thead>\n",
              "  <tbody>\n",
              "    <tr>\n",
              "      <th>count</th>\n",
              "      <td>1197.000000</td>\n",
              "      <td>1197.000000</td>\n",
              "      <td>1197.000000</td>\n",
              "      <td>691.000000</td>\n",
              "      <td>1197.000000</td>\n",
              "      <td>1197.000000</td>\n",
              "      <td>1197.000000</td>\n",
              "      <td>1197.000000</td>\n",
              "      <td>1197.000000</td>\n",
              "      <td>1197.000000</td>\n",
              "      <td>1197.000000</td>\n",
              "    </tr>\n",
              "    <tr>\n",
              "      <th>mean</th>\n",
              "      <td>6.426901</td>\n",
              "      <td>0.729632</td>\n",
              "      <td>15.062172</td>\n",
              "      <td>1190.465991</td>\n",
              "      <td>4567.460317</td>\n",
              "      <td>38.210526</td>\n",
              "      <td>0.730159</td>\n",
              "      <td>0.369256</td>\n",
              "      <td>0.150376</td>\n",
              "      <td>34.609858</td>\n",
              "      <td>0.735091</td>\n",
              "    </tr>\n",
              "    <tr>\n",
              "      <th>std</th>\n",
              "      <td>3.463963</td>\n",
              "      <td>0.097891</td>\n",
              "      <td>10.943219</td>\n",
              "      <td>1837.455001</td>\n",
              "      <td>3348.823563</td>\n",
              "      <td>160.182643</td>\n",
              "      <td>12.709757</td>\n",
              "      <td>3.268987</td>\n",
              "      <td>0.427848</td>\n",
              "      <td>22.197687</td>\n",
              "      <td>0.174488</td>\n",
              "    </tr>\n",
              "    <tr>\n",
              "      <th>min</th>\n",
              "      <td>1.000000</td>\n",
              "      <td>0.070000</td>\n",
              "      <td>2.900000</td>\n",
              "      <td>7.000000</td>\n",
              "      <td>0.000000</td>\n",
              "      <td>0.000000</td>\n",
              "      <td>0.000000</td>\n",
              "      <td>0.000000</td>\n",
              "      <td>0.000000</td>\n",
              "      <td>2.000000</td>\n",
              "      <td>0.233705</td>\n",
              "    </tr>\n",
              "    <tr>\n",
              "      <th>25%</th>\n",
              "      <td>3.000000</td>\n",
              "      <td>0.700000</td>\n",
              "      <td>3.940000</td>\n",
              "      <td>774.500000</td>\n",
              "      <td>1440.000000</td>\n",
              "      <td>0.000000</td>\n",
              "      <td>0.000000</td>\n",
              "      <td>0.000000</td>\n",
              "      <td>0.000000</td>\n",
              "      <td>9.000000</td>\n",
              "      <td>0.650307</td>\n",
              "    </tr>\n",
              "    <tr>\n",
              "      <th>50%</th>\n",
              "      <td>6.000000</td>\n",
              "      <td>0.750000</td>\n",
              "      <td>15.260000</td>\n",
              "      <td>1039.000000</td>\n",
              "      <td>3960.000000</td>\n",
              "      <td>0.000000</td>\n",
              "      <td>0.000000</td>\n",
              "      <td>0.000000</td>\n",
              "      <td>0.000000</td>\n",
              "      <td>34.000000</td>\n",
              "      <td>0.773333</td>\n",
              "    </tr>\n",
              "    <tr>\n",
              "      <th>75%</th>\n",
              "      <td>9.000000</td>\n",
              "      <td>0.800000</td>\n",
              "      <td>24.260000</td>\n",
              "      <td>1252.500000</td>\n",
              "      <td>6960.000000</td>\n",
              "      <td>50.000000</td>\n",
              "      <td>0.000000</td>\n",
              "      <td>0.000000</td>\n",
              "      <td>0.000000</td>\n",
              "      <td>57.000000</td>\n",
              "      <td>0.850253</td>\n",
              "    </tr>\n",
              "    <tr>\n",
              "      <th>max</th>\n",
              "      <td>12.000000</td>\n",
              "      <td>0.800000</td>\n",
              "      <td>54.560000</td>\n",
              "      <td>23122.000000</td>\n",
              "      <td>25920.000000</td>\n",
              "      <td>3600.000000</td>\n",
              "      <td>300.000000</td>\n",
              "      <td>45.000000</td>\n",
              "      <td>2.000000</td>\n",
              "      <td>89.000000</td>\n",
              "      <td>1.120437</td>\n",
              "    </tr>\n",
              "  </tbody>\n",
              "</table>\n",
              "</div>"
            ],
            "text/plain": [
              "              team  targeted_productivity  ...  no_of_workers  actual_productivity\n",
              "count  1197.000000            1197.000000  ...    1197.000000          1197.000000\n",
              "mean      6.426901               0.729632  ...      34.609858             0.735091\n",
              "std       3.463963               0.097891  ...      22.197687             0.174488\n",
              "min       1.000000               0.070000  ...       2.000000             0.233705\n",
              "25%       3.000000               0.700000  ...       9.000000             0.650307\n",
              "50%       6.000000               0.750000  ...      34.000000             0.773333\n",
              "75%       9.000000               0.800000  ...      57.000000             0.850253\n",
              "max      12.000000               0.800000  ...      89.000000             1.120437\n",
              "\n",
              "[8 rows x 11 columns]"
            ]
          },
          "metadata": {},
          "execution_count": 4
        }
      ]
    },
    {
      "cell_type": "code",
      "metadata": {
        "colab": {
          "base_uri": "https://localhost:8080/"
        },
        "id": "6sQJK6x7qF5u",
        "outputId": "68006db9-df64-49bd-f415-f9cc9d51225f"
      },
      "source": [
        "df.date.unique()"
      ],
      "execution_count": null,
      "outputs": [
        {
          "output_type": "execute_result",
          "data": {
            "text/plain": [
              "array(['1/1/2015', '1/3/2015', '1/4/2015', '1/5/2015', '1/6/2015',\n",
              "       '1/7/2015', '1/8/2015', '1/10/2015', '1/11/2015', '1/12/2015',\n",
              "       '1/13/2015', '1/14/2015', '1/15/2015', '1/17/2015', '1/18/2015',\n",
              "       '1/19/2015', '1/20/2015', '1/21/2015', '1/22/2015', '1/24/2015',\n",
              "       '1/25/2015', '1/26/2015', '1/27/2015', '1/28/2015', '1/29/2015',\n",
              "       '1/31/2015', '2/1/2015', '2/2/2015', '2/3/2015', '2/4/2015',\n",
              "       '2/5/2015', '2/7/2015', '2/8/2015', '2/9/2015', '2/10/2015',\n",
              "       '2/11/2015', '2/12/2015', '2/14/2015', '2/15/2015', '2/16/2015',\n",
              "       '2/17/2015', '2/18/2015', '2/19/2015', '2/22/2015', '2/23/2015',\n",
              "       '2/24/2015', '2/25/2015', '2/26/2015', '2/28/2015', '3/1/2015',\n",
              "       '3/2/2015', '3/3/2015', '3/4/2015', '3/5/2015', '3/7/2015',\n",
              "       '3/8/2015', '3/9/2015', '3/10/2015', '3/11/2015'], dtype=object)"
            ]
          },
          "metadata": {},
          "execution_count": 5
        }
      ]
    },
    {
      "cell_type": "code",
      "metadata": {
        "colab": {
          "base_uri": "https://localhost:8080/"
        },
        "id": "TOTMM8OMB0nh",
        "outputId": "199330a3-e816-490b-de04-d1706a972916"
      },
      "source": [
        "df.quarter.unique()"
      ],
      "execution_count": null,
      "outputs": [
        {
          "output_type": "execute_result",
          "data": {
            "text/plain": [
              "array(['Quarter1', 'Quarter2', 'Quarter3', 'Quarter4', 'Quarter5'],\n",
              "      dtype=object)"
            ]
          },
          "metadata": {},
          "execution_count": 6
        }
      ]
    },
    {
      "cell_type": "markdown",
      "metadata": {
        "id": "g8oOgS71CIJp"
      },
      "source": [
        "Aquí vemos que 'finishing' y 'finishing ' sólo se diferencian por el espacio al final, así que procedemos a eliminar ese espacio. "
      ]
    },
    {
      "cell_type": "code",
      "metadata": {
        "id": "CorKNyUeB-M0"
      },
      "source": [
        "df.department=pd.Series(map(lambda x: x.strip(), df.department))"
      ],
      "execution_count": null,
      "outputs": []
    },
    {
      "cell_type": "code",
      "metadata": {
        "colab": {
          "base_uri": "https://localhost:8080/"
        },
        "id": "mF02DjptEVaM",
        "outputId": "00045b6b-4c35-41a8-fa46-f406946ad396"
      },
      "source": [
        "df.department.unique()"
      ],
      "execution_count": null,
      "outputs": [
        {
          "output_type": "execute_result",
          "data": {
            "text/plain": [
              "array(['sweing', 'finishing'], dtype=object)"
            ]
          },
          "metadata": {},
          "execution_count": 8
        }
      ]
    },
    {
      "cell_type": "code",
      "metadata": {
        "colab": {
          "base_uri": "https://localhost:8080/"
        },
        "id": "TMe8TD7JEpiE",
        "outputId": "1db7466f-3cf6-4055-8341-a0c014671575"
      },
      "source": [
        "df.day.unique()"
      ],
      "execution_count": null,
      "outputs": [
        {
          "output_type": "execute_result",
          "data": {
            "text/plain": [
              "array(['Thursday', 'Saturday', 'Sunday', 'Monday', 'Tuesday', 'Wednesday'],\n",
              "      dtype=object)"
            ]
          },
          "metadata": {},
          "execution_count": 9
        }
      ]
    },
    {
      "cell_type": "code",
      "metadata": {
        "colab": {
          "base_uri": "https://localhost:8080/"
        },
        "id": "QK1G5ag_E2XE",
        "outputId": "83f139eb-048f-462c-febf-50bdd698f039"
      },
      "source": [
        "np.sort(df.team.unique())"
      ],
      "execution_count": null,
      "outputs": [
        {
          "output_type": "execute_result",
          "data": {
            "text/plain": [
              "array([ 1,  2,  3,  4,  5,  6,  7,  8,  9, 10, 11, 12])"
            ]
          },
          "metadata": {},
          "execution_count": 10
        }
      ]
    },
    {
      "cell_type": "code",
      "metadata": {
        "colab": {
          "base_uri": "https://localhost:8080/"
        },
        "id": "flmH4_m7FMI_",
        "outputId": "0a99e829-0f06-46c8-c2ba-3c0936535633"
      },
      "source": [
        "np.sort(df.targeted_productivity.unique())"
      ],
      "execution_count": null,
      "outputs": [
        {
          "output_type": "execute_result",
          "data": {
            "text/plain": [
              "array([0.07, 0.35, 0.4 , 0.5 , 0.6 , 0.65, 0.7 , 0.75, 0.8 ])"
            ]
          },
          "metadata": {},
          "execution_count": 11
        }
      ]
    },
    {
      "cell_type": "code",
      "metadata": {
        "colab": {
          "base_uri": "https://localhost:8080/"
        },
        "id": "fi23XCy2FJcP",
        "outputId": "df0c0969-8f81-4462-c57f-f8b1d1a1c3b6"
      },
      "source": [
        "np.sort(df.smv.unique())"
      ],
      "execution_count": null,
      "outputs": [
        {
          "output_type": "execute_result",
          "data": {
            "text/plain": [
              "array([ 2.9 ,  3.9 ,  3.94,  4.08,  4.15,  4.3 ,  4.6 ,  5.13, 10.05,\n",
              "       11.41, 11.61, 12.52, 14.61, 14.89, 15.09, 15.26, 15.28, 16.1 ,\n",
              "       18.22, 18.79, 19.31, 19.68, 19.87, 20.1 , 20.2 , 20.4 , 20.55,\n",
              "       20.79, 21.25, 21.82, 21.98, 22.4 , 22.52, 22.53, 22.94, 23.41,\n",
              "       23.54, 23.69, 24.26, 25.31, 25.9 , 26.16, 26.66, 26.82, 26.87,\n",
              "       27.13, 27.48, 28.08, 29.12, 29.4 , 30.1 , 30.33, 30.4 , 30.48,\n",
              "       31.83, 38.09, 40.99, 41.19, 42.27, 42.41, 42.97, 45.67, 48.18,\n",
              "       48.68, 48.84, 49.1 , 50.48, 50.89, 51.02, 54.56])"
            ]
          },
          "metadata": {},
          "execution_count": 12
        }
      ]
    },
    {
      "cell_type": "code",
      "metadata": {
        "colab": {
          "base_uri": "https://localhost:8080/"
        },
        "id": "Q9KL_XNCG28q",
        "outputId": "a841e2f5-2696-4bc5-af92-40c19b62adea"
      },
      "source": [
        "df.wip.isna().sum()\n"
      ],
      "execution_count": null,
      "outputs": [
        {
          "output_type": "execute_result",
          "data": {
            "text/plain": [
              "506"
            ]
          },
          "metadata": {},
          "execution_count": 13
        }
      ]
    },
    {
      "cell_type": "code",
      "metadata": {
        "id": "1CY0hOTBumyi"
      },
      "source": [
        "df.wip=df.wip.fillna(value=0.0)"
      ],
      "execution_count": null,
      "outputs": []
    },
    {
      "cell_type": "code",
      "metadata": {
        "colab": {
          "base_uri": "https://localhost:8080/"
        },
        "id": "lBcWQF9Ku0No",
        "outputId": "fc802521-690f-4f19-d766-c5cdc1c5726e"
      },
      "source": [
        "df.wip.isna().sum()"
      ],
      "execution_count": null,
      "outputs": [
        {
          "output_type": "execute_result",
          "data": {
            "text/plain": [
              "0"
            ]
          },
          "metadata": {},
          "execution_count": 15
        }
      ]
    },
    {
      "cell_type": "code",
      "metadata": {
        "colab": {
          "base_uri": "https://localhost:8080/"
        },
        "id": "_PgLYSI3HX6l",
        "outputId": "71192009-0397-4e7c-87cc-c8f1fda182bc"
      },
      "source": [
        "df.over_time.unique().dtype"
      ],
      "execution_count": null,
      "outputs": [
        {
          "output_type": "execute_result",
          "data": {
            "text/plain": [
              "dtype('int64')"
            ]
          },
          "metadata": {},
          "execution_count": 16
        }
      ]
    },
    {
      "cell_type": "code",
      "metadata": {
        "colab": {
          "base_uri": "https://localhost:8080/"
        },
        "id": "JwfnVvXVHlA-",
        "outputId": "137f70ba-cbbc-462e-ec49-0af52e40fe71"
      },
      "source": [
        "np.sort(df.incentive.unique())"
      ],
      "execution_count": null,
      "outputs": [
        {
          "output_type": "execute_result",
          "data": {
            "text/plain": [
              "array([   0,   21,   23,   24,   25,   26,   27,   29,   30,   32,   33,\n",
              "         34,   35,   37,   38,   40,   44,   45,   46,   49,   50,   53,\n",
              "         54,   55,   56,   60,   62,   63,   65,   69,   70,   75,   81,\n",
              "         88,   90,   93,   94,   98,  100,  113,  119,  138,  960, 1080,\n",
              "       1200, 1440, 2880, 3600])"
            ]
          },
          "metadata": {},
          "execution_count": 17
        }
      ]
    },
    {
      "cell_type": "code",
      "metadata": {
        "colab": {
          "base_uri": "https://localhost:8080/"
        },
        "id": "4mZd9A3RH7R1",
        "outputId": "3ca19962-b130-402b-c902-9ed1b05c22c8"
      },
      "source": [
        "np.sort(df.idle_time.unique())"
      ],
      "execution_count": null,
      "outputs": [
        {
          "output_type": "execute_result",
          "data": {
            "text/plain": [
              "array([  0. ,   2. ,   3.5,   4. ,   4.5,   5. ,   6.5,   8. ,  90. ,\n",
              "       150. , 270. , 300. ])"
            ]
          },
          "metadata": {},
          "execution_count": 18
        }
      ]
    },
    {
      "cell_type": "code",
      "metadata": {
        "colab": {
          "base_uri": "https://localhost:8080/"
        },
        "id": "XGQL8WUOIa4U",
        "outputId": "93d5539a-539e-4f14-ac6f-83d6f951fad8"
      },
      "source": [
        "np.sort(df.idle_men.unique())"
      ],
      "execution_count": null,
      "outputs": [
        {
          "output_type": "execute_result",
          "data": {
            "text/plain": [
              "array([ 0, 10, 15, 20, 25, 30, 35, 37, 40, 45])"
            ]
          },
          "metadata": {},
          "execution_count": 19
        }
      ]
    },
    {
      "cell_type": "code",
      "metadata": {
        "colab": {
          "base_uri": "https://localhost:8080/"
        },
        "id": "AWxlt1biIhuy",
        "outputId": "cf1f1ff6-459c-4412-c78b-42f5d3b72e79"
      },
      "source": [
        "df.no_of_style_change.unique()"
      ],
      "execution_count": null,
      "outputs": [
        {
          "output_type": "execute_result",
          "data": {
            "text/plain": [
              "array([0, 1, 2])"
            ]
          },
          "metadata": {},
          "execution_count": 20
        }
      ]
    },
    {
      "cell_type": "code",
      "metadata": {
        "colab": {
          "base_uri": "https://localhost:8080/"
        },
        "id": "kQb8lgfpIrNf",
        "outputId": "2322f588-1c48-4e5f-92a5-72509bf9a4fe"
      },
      "source": [
        "np.sort(df.no_of_workers.unique())"
      ],
      "execution_count": null,
      "outputs": [
        {
          "output_type": "execute_result",
          "data": {
            "text/plain": [
              "array([ 2. ,  4. ,  5. ,  6. ,  7. ,  8. ,  9. , 10. , 11. , 12. , 14. ,\n",
              "       15. , 16. , 17. , 18. , 19. , 20. , 21. , 22. , 24. , 25. , 26. ,\n",
              "       27. , 28. , 29.5, 30.5, 31. , 31.5, 32. , 33. , 33.5, 34. , 35. ,\n",
              "       38. , 39. , 42. , 44. , 45. , 46. , 47. , 48. , 49. , 50. , 51. ,\n",
              "       51.5, 52. , 53. , 54. , 54.5, 55. , 55.5, 56. , 56.5, 57. , 57.5,\n",
              "       58. , 58.5, 59. , 59.5, 60. , 89. ])"
            ]
          },
          "metadata": {},
          "execution_count": 21
        }
      ]
    },
    {
      "cell_type": "code",
      "metadata": {
        "colab": {
          "base_uri": "https://localhost:8080/"
        },
        "id": "2HgmgxqZJQzn",
        "outputId": "36292ecc-af2b-4bea-ab56-a06d29871e06"
      },
      "source": [
        "df.actual_productivity.unique().dtype"
      ],
      "execution_count": null,
      "outputs": [
        {
          "output_type": "execute_result",
          "data": {
            "text/plain": [
              "dtype('float64')"
            ]
          },
          "metadata": {},
          "execution_count": 22
        }
      ]
    },
    {
      "cell_type": "markdown",
      "metadata": {
        "id": "wWeYAwfPrbXd"
      },
      "source": [
        "## Descripción de las columnas\n",
        "\n",
        "- date: La fecha en formato MM-DD-YYYY\n",
        "- quarter: La porción del mes. Un mes dividido en cuatro partes\n",
        "- department: Departamento asociado a la instancia\n",
        "- team: Número de equipo\n",
        "- targeted_productivity: Productividad objetivo establecida por la Autoridad para cada equipo y para cada día\n",
        "- smv: Standard Minute Value, es el tiempo asignado para una tarea\n",
        "- wip: Work in progress. Incluye el número de artículos sin terminar\n",
        "- over_time: Representa la cantidad de tiempo extra por cada equipo en minutos\n",
        "- incentive: Representa la cantidad de incentivo financiero (en BDT) que permite o motiva un curso de acción en particular.\n",
        "- idle_time: La cantidad de tiempo en que la producción fue interrumpida debido a diversas razones \n",
        "- idle_men: Cantidad de trabajadores inactivos debido a una interrupción\n",
        "- no_of_style_change: Número de cambios en el estilo de un producto particular\n",
        "- no_of_workers: Número de trabajadores por equipo\n",
        "- actual_productivity: El porcentaje de la productividad real lograda por los empleados. Varía\n",
        "de 0.0 a 1.0\n",
        "\n"
      ]
    },
    {
      "cell_type": "code",
      "metadata": {
        "colab": {
          "base_uri": "https://localhost:8080/"
        },
        "id": "IUhVw_3-vEL-",
        "outputId": "f3407f93-cb27-4629-d79a-bdb78f70fe1a"
      },
      "source": [
        "df.isna().sum()"
      ],
      "execution_count": null,
      "outputs": [
        {
          "output_type": "execute_result",
          "data": {
            "text/plain": [
              "date                     0\n",
              "quarter                  0\n",
              "department               0\n",
              "day                      0\n",
              "team                     0\n",
              "targeted_productivity    0\n",
              "smv                      0\n",
              "wip                      0\n",
              "over_time                0\n",
              "incentive                0\n",
              "idle_time                0\n",
              "idle_men                 0\n",
              "no_of_style_change       0\n",
              "no_of_workers            0\n",
              "actual_productivity      0\n",
              "dtype: int64"
            ]
          },
          "metadata": {},
          "execution_count": 23
        }
      ]
    },
    {
      "cell_type": "code",
      "metadata": {
        "colab": {
          "base_uri": "https://localhost:8080/"
        },
        "id": "Dw09IjU9siGG",
        "outputId": "25010ff3-5b27-41a9-d25d-0bcad9607615"
      },
      "source": [
        "df.head()"
      ],
      "execution_count": null,
      "outputs": [
        {
          "output_type": "execute_result",
          "data": {
            "text/html": [
              "<div>\n",
              "<style scoped>\n",
              "    .dataframe tbody tr th:only-of-type {\n",
              "        vertical-align: middle;\n",
              "    }\n",
              "\n",
              "    .dataframe tbody tr th {\n",
              "        vertical-align: top;\n",
              "    }\n",
              "\n",
              "    .dataframe thead th {\n",
              "        text-align: right;\n",
              "    }\n",
              "</style>\n",
              "<table border=\"1\" class=\"dataframe\">\n",
              "  <thead>\n",
              "    <tr style=\"text-align: right;\">\n",
              "      <th></th>\n",
              "      <th>date</th>\n",
              "      <th>quarter</th>\n",
              "      <th>department</th>\n",
              "      <th>day</th>\n",
              "      <th>team</th>\n",
              "      <th>targeted_productivity</th>\n",
              "      <th>smv</th>\n",
              "      <th>wip</th>\n",
              "      <th>over_time</th>\n",
              "      <th>incentive</th>\n",
              "      <th>idle_time</th>\n",
              "      <th>idle_men</th>\n",
              "      <th>no_of_style_change</th>\n",
              "      <th>no_of_workers</th>\n",
              "      <th>actual_productivity</th>\n",
              "    </tr>\n",
              "  </thead>\n",
              "  <tbody>\n",
              "    <tr>\n",
              "      <th>0</th>\n",
              "      <td>1/1/2015</td>\n",
              "      <td>Quarter1</td>\n",
              "      <td>sweing</td>\n",
              "      <td>Thursday</td>\n",
              "      <td>8</td>\n",
              "      <td>0.80</td>\n",
              "      <td>26.16</td>\n",
              "      <td>1108.0</td>\n",
              "      <td>7080</td>\n",
              "      <td>98</td>\n",
              "      <td>0.0</td>\n",
              "      <td>0</td>\n",
              "      <td>0</td>\n",
              "      <td>59.0</td>\n",
              "      <td>0.940725</td>\n",
              "    </tr>\n",
              "    <tr>\n",
              "      <th>1</th>\n",
              "      <td>1/1/2015</td>\n",
              "      <td>Quarter1</td>\n",
              "      <td>finishing</td>\n",
              "      <td>Thursday</td>\n",
              "      <td>1</td>\n",
              "      <td>0.75</td>\n",
              "      <td>3.94</td>\n",
              "      <td>0.0</td>\n",
              "      <td>960</td>\n",
              "      <td>0</td>\n",
              "      <td>0.0</td>\n",
              "      <td>0</td>\n",
              "      <td>0</td>\n",
              "      <td>8.0</td>\n",
              "      <td>0.886500</td>\n",
              "    </tr>\n",
              "    <tr>\n",
              "      <th>2</th>\n",
              "      <td>1/1/2015</td>\n",
              "      <td>Quarter1</td>\n",
              "      <td>sweing</td>\n",
              "      <td>Thursday</td>\n",
              "      <td>11</td>\n",
              "      <td>0.80</td>\n",
              "      <td>11.41</td>\n",
              "      <td>968.0</td>\n",
              "      <td>3660</td>\n",
              "      <td>50</td>\n",
              "      <td>0.0</td>\n",
              "      <td>0</td>\n",
              "      <td>0</td>\n",
              "      <td>30.5</td>\n",
              "      <td>0.800570</td>\n",
              "    </tr>\n",
              "    <tr>\n",
              "      <th>3</th>\n",
              "      <td>1/1/2015</td>\n",
              "      <td>Quarter1</td>\n",
              "      <td>sweing</td>\n",
              "      <td>Thursday</td>\n",
              "      <td>12</td>\n",
              "      <td>0.80</td>\n",
              "      <td>11.41</td>\n",
              "      <td>968.0</td>\n",
              "      <td>3660</td>\n",
              "      <td>50</td>\n",
              "      <td>0.0</td>\n",
              "      <td>0</td>\n",
              "      <td>0</td>\n",
              "      <td>30.5</td>\n",
              "      <td>0.800570</td>\n",
              "    </tr>\n",
              "    <tr>\n",
              "      <th>4</th>\n",
              "      <td>1/1/2015</td>\n",
              "      <td>Quarter1</td>\n",
              "      <td>sweing</td>\n",
              "      <td>Thursday</td>\n",
              "      <td>6</td>\n",
              "      <td>0.80</td>\n",
              "      <td>25.90</td>\n",
              "      <td>1170.0</td>\n",
              "      <td>1920</td>\n",
              "      <td>50</td>\n",
              "      <td>0.0</td>\n",
              "      <td>0</td>\n",
              "      <td>0</td>\n",
              "      <td>56.0</td>\n",
              "      <td>0.800382</td>\n",
              "    </tr>\n",
              "  </tbody>\n",
              "</table>\n",
              "</div>"
            ],
            "text/plain": [
              "       date   quarter  ... no_of_workers actual_productivity\n",
              "0  1/1/2015  Quarter1  ...          59.0            0.940725\n",
              "1  1/1/2015  Quarter1  ...           8.0            0.886500\n",
              "2  1/1/2015  Quarter1  ...          30.5            0.800570\n",
              "3  1/1/2015  Quarter1  ...          30.5            0.800570\n",
              "4  1/1/2015  Quarter1  ...          56.0            0.800382\n",
              "\n",
              "[5 rows x 15 columns]"
            ]
          },
          "metadata": {},
          "execution_count": 24
        }
      ]
    },
    {
      "cell_type": "markdown",
      "metadata": {
        "id": "uaUHD6NEOrM2"
      },
      "source": [
        "# Postwork 2\n",
        "\n",
        "La intención de este postwork es crear módulos de separación, evaluación y validación de algoritmos de Machine Learning. El módulo MLUtilities se puede encontrar en el siguiente [Notebook](https://colab.research.google.com/drive/1lvk9P-tE73ORJYZCYEC8zCSAPq1KpcVv#scrollTo=wfxXRPatCOw7) y se instala de la siguiente manera:"
      ]
    },
    {
      "cell_type": "code",
      "metadata": {
        "colab": {
          "base_uri": "https://localhost:8080/"
        },
        "id": "57SD1SMAG0hF",
        "outputId": "f7d1e845-a8df-4a14-82d1-ba6ce5453eb7"
      },
      "source": [
        "!pip install -i https://test.pypi.org/simple/ MLUtilities-Bedu-Team-One"
      ],
      "execution_count": null,
      "outputs": [
        {
          "output_type": "stream",
          "name": "stdout",
          "text": [
            "Looking in indexes: https://test.pypi.org/simple/\n",
            "Collecting MLUtilities-Bedu-Team-One\n",
            "  Downloading https://test-files.pythonhosted.org/packages/06/f0/83d4e356f621939664958665443eb05cc35b7d66a6d03999edb4f832bdf2/MLUtilities_Bedu_Team_One-0.2-py3-none-any.whl (2.2 kB)\n",
            "Installing collected packages: MLUtilities-Bedu-Team-One\n",
            "Successfully installed MLUtilities-Bedu-Team-One-0.2\n"
          ]
        }
      ]
    },
    {
      "cell_type": "code",
      "metadata": {
        "id": "8Z38x0jqsUtC"
      },
      "source": [
        "# Se importa MLUtilities\n",
        "import MLUtilities_Bedu_Team_One as mlu"
      ],
      "execution_count": null,
      "outputs": []
    },
    {
      "cell_type": "markdown",
      "metadata": {
        "id": "EntEWAb3Txqj"
      },
      "source": [
        "# Postwork 3\n",
        "\n",
        "- Evalúa si tu proyecto puede resolverse con un algoritmo no supervisado. Recuerda que puede que las clases y categorías que obtengas no sean las que esperas. Pregúntate si el proyecto se verá beneficiado con la agrupación por clústeres.\n",
        "- Si es el caso, primero enuncia qué es lo que deseas lograr: recuerda que de nada sirve el mejor algoritmo de Machine Learning si no tienes idea de lo que quieres obtener.\n",
        "- Lleva tu bitácora de experimentos y prueba si te funciona el variar la cantidad de clústeres: ¿Tener menos clústeres te da mejores resultados? ¿Tener más clústeres te ayuda a tomar mejores decisiones?\n",
        "- Construye tu proyecto con Jupyter Notebook. Utiliza lo que vimos en esta clase para ello. Una vez que has probado que funciona adecuadamente, haz un archivo de Python 3 con la configuración elegida y el proyecto elegido. - Recuerda que necesitarás presentar evidencias de que tu hipótesis se respondió.\n"
      ]
    },
    {
      "cell_type": "markdown",
      "metadata": {
        "id": "hiSkqH5uWl7I"
      },
      "source": [
        "Se tiene como hipótesis que el incentivo financiero mejora la productividad. Primero, se elabora un mapa de calor para visualizar la correlación existente entre las variables. "
      ]
    },
    {
      "cell_type": "code",
      "metadata": {
        "colab": {
          "base_uri": "https://localhost:8080/"
        },
        "id": "UkYp9gBNWPxo",
        "outputId": "f07c3305-b120-4cfd-b74a-bd53cd7112e2"
      },
      "source": [
        "df_corr=df[['targeted_productivity', 'smv', 'wip', 'over_time', 'incentive', 'idle_time', 'idle_men', 'no_of_workers', 'actual_productivity']].corr()\n",
        "sns.set(style='white', font_scale=0.8, rc={'figure.figsize':(7,7)})\n",
        "sns.heatmap(df_corr, annot=True)"
      ],
      "execution_count": null,
      "outputs": [
        {
          "output_type": "execute_result",
          "data": {
            "text/plain": [
              "<matplotlib.axes._subplots.AxesSubplot at 0x7fe5bd9b8490>"
            ]
          },
          "metadata": {},
          "execution_count": 27
        },
        {
          "output_type": "display_data",
          "data": {
            "image/png": "[encoded data removed]",
            "text/plain": [
              "<Figure size 504x504 with 2 Axes>"
            ]
          },
          "metadata": {}
        }
      ]
    },
    {
      "cell_type": "markdown",
      "metadata": {
        "id": "WnjiNMLEXYWk"
      },
      "source": [
        "Con este mapa de calor se puede observar que la correlación no existe. Sin embargo, se debe de considerar que existen dos departamentos encargados del acabado del producto: de costura y de finalización. Las proporciones de los datos que corresponden a cada departamento se muestran a continuación mediante un gráfico circular."
      ]
    },
    {
      "cell_type": "code",
      "metadata": {
        "colab": {
          "base_uri": "https://localhost:8080/"
        },
        "id": "eBtikSWCt56e",
        "outputId": "8381da30-4d57-4931-8d05-c3e44b48d941"
      },
      "source": [
        "df.department.value_counts().plot(kind='pie', autopct=\"%.2f\")"
      ],
      "execution_count": null,
      "outputs": [
        {
          "output_type": "execute_result",
          "data": {
            "text/plain": [
              "<matplotlib.axes._subplots.AxesSubplot at 0x7fe5542fa2d0>"
            ]
          },
          "metadata": {},
          "execution_count": 28
        },
        {
          "output_type": "display_data",
          "data": {
            "image/png": "[encoded data removed]",
            "text/plain": [
              "<Figure size 504x504 with 1 Axes>"
            ]
          },
          "metadata": {}
        }
      ]
    },
    {
      "cell_type": "markdown",
      "metadata": {
        "id": "rWtvrHEVYSbO"
      },
      "source": [
        "Por esta razón, separar el conjunto de datos por estas dos variables es una acción necesaria."
      ]
    },
    {
      "cell_type": "code",
      "metadata": {
        "id": "czOk1EA0dLTb"
      },
      "source": [
        "df_sweing=df[df.department=='sweing']\n",
        "df_finishing=df[df.department=='finishing']"
      ],
      "execution_count": null,
      "outputs": []
    },
    {
      "cell_type": "markdown",
      "metadata": {
        "id": "-WYff2_eYiql"
      },
      "source": [
        "Ahora, realizando un mapa de calor para los datos correspondientes a cada variable se obtiene lo siguiente:"
      ]
    },
    {
      "cell_type": "code",
      "metadata": {
        "colab": {
          "base_uri": "https://localhost:8080/"
        },
        "id": "yhXsYZ65UOh3",
        "outputId": "29874a84-2269-4988-cd4c-ba4423518e57"
      },
      "source": [
        "# Departamento de costura\n",
        "df_sweing_corr=df_sweing[['targeted_productivity', 'smv', 'wip', 'over_time', 'incentive', 'idle_time', 'idle_men', 'no_of_workers', 'actual_productivity']].corr()\n",
        "sns.set(style='white', font_scale=0.8, rc={'figure.figsize':(7,7)})\n",
        "sns.heatmap(df_sweing_corr, annot=True)"
      ],
      "execution_count": null,
      "outputs": [
        {
          "output_type": "execute_result",
          "data": {
            "text/plain": [
              "<matplotlib.axes._subplots.AxesSubplot at 0x7fe5532e0310>"
            ]
          },
          "metadata": {},
          "execution_count": 30
        },
        {
          "output_type": "display_data",
          "data": {
            "image/png": "[encoded data removed]",
            "text/plain": [
              "<Figure size 504x504 with 2 Axes>"
            ]
          },
          "metadata": {}
        }
      ]
    },
    {
      "cell_type": "code",
      "metadata": {
        "colab": {
          "base_uri": "https://localhost:8080/"
        },
        "id": "-ydzRSKaY3Vq",
        "outputId": "12c2d2c6-b5b8-4119-c36f-6e766acdfe49"
      },
      "source": [
        "# Departamento de acabado\n",
        "df_finishing_corr=df_finishing[['targeted_productivity', 'smv', 'wip', 'over_time', 'incentive', 'idle_time', 'idle_men', 'no_of_workers', 'actual_productivity']].corr()\n",
        "sns.set(style='white', font_scale=0.8, rc={'figure.figsize':(7,7)})\n",
        "sns.heatmap(df_finishing_corr, annot=True)"
      ],
      "execution_count": null,
      "outputs": [
        {
          "output_type": "execute_result",
          "data": {
            "text/plain": [
              "<matplotlib.axes._subplots.AxesSubplot at 0x7fe5532d13d0>"
            ]
          },
          "metadata": {},
          "execution_count": 31
        },
        {
          "output_type": "display_data",
          "data": {
            "image/png": "[encoded data removed]",
            "text/plain": [
              "<Figure size 504x504 with 2 Axes>"
            ]
          },
          "metadata": {}
        }
      ]
    },
    {
      "cell_type": "markdown",
      "metadata": {
        "id": "rzhYd5_8ZSUs"
      },
      "source": [
        "Con esto se demuestra, parcialmente, que la hipótesis es correcta sólo para un departamento: el de costura. Sin embargo, en el mapa de calor se puede ver otro tipo de correlación para el mismo departamento. Se trata de las variables 'targeted_productivity' (relacionado con la importancia de realizar ciertas tareas) y la productividad. "
      ]
    },
    {
      "cell_type": "code",
      "metadata": {
        "colab": {
          "base_uri": "https://localhost:8080/"
        },
        "id": "LFzbkM7ubyb0",
        "outputId": "609fc712-b58e-475d-d9d1-0ba7178a6f33"
      },
      "source": [
        "sns.set(style='white', font_scale=1.5, rc={'figure.figsize':(11,11)})\n",
        "plt.figure()\n",
        "plt.subplot(2,2,1)\n",
        "plt.scatter(df_sweing.incentive, df_sweing.targeted_productivity, c=df_sweing.actual_productivity)\n",
        "plt.title('Incentive vs Targeted productivity')\n",
        "\n",
        "\n",
        "plt.subplot(2,2,2)\n",
        "plt.scatter(df_sweing.incentive, df_sweing.actual_productivity, c=df_sweing.targeted_productivity)\n",
        "plt.title('Incentive vs Actual productivity')\n",
        "\n",
        "plt.subplot(2,2,3)\n",
        "plt.scatter(df_sweing.targeted_productivity, df_sweing.actual_productivity, c=df_sweing.incentive)\n",
        "plt.title('Targeted productivity vs Actual productivity')"
      ],
      "execution_count": null,
      "outputs": [
        {
          "output_type": "execute_result",
          "data": {
            "text/plain": [
              "Text(0.5, 1.0, 'Targeted productivity vs Actual productivity')"
            ]
          },
          "metadata": {},
          "execution_count": 32
        },
        {
          "output_type": "display_data",
          "data": {
            "image/png": "[encoded data removed]",
            "text/plain": [
              "<Figure size 792x792 with 3 Axes>"
            ]
          },
          "metadata": {}
        }
      ]
    },
    {
      "cell_type": "markdown",
      "metadata": {
        "id": "SmvANW0Wa4t8"
      },
      "source": [
        "No obstante, la relación planteada desde la hipótesis es más evidente. Por esta razón, tales variables son consideradas para el proceso de clusterización. "
      ]
    },
    {
      "cell_type": "code",
      "metadata": {
        "id": "6HKL2meK7PAX"
      },
      "source": [
        "X=df_sweing[['incentive', 'actual_productivity']]"
      ],
      "execution_count": null,
      "outputs": []
    },
    {
      "cell_type": "markdown",
      "metadata": {
        "id": "KqUu5B8fbWCQ"
      },
      "source": [
        "El descenso del valor de la función objetivo se muestra en la siguiente Tabla. A su vez, se agrega una columna \"p-%\" la cuál muestra el descenso como un porcentaje. Aquí, el valor más alto representa el 100%."
      ]
    },
    {
      "cell_type": "code",
      "metadata": {
        "colab": {
          "base_uri": "https://localhost:8080/"
        },
        "id": "hYVwLJGtOVcI",
        "outputId": "14147883-c5a6-4870-cd28-9462f87db2ce"
      },
      "source": [
        "var = []\n",
        "for i in range(1,10):\n",
        "\tkmeans=KMeans(n_clusters=i, init='k-means++', random_state=13)\n",
        "\tkmeans.fit(X)\n",
        "\tvar.append(kmeans.inertia_)\n",
        "pd.DataFrame({'Fobj':var, 'p-%':100*np.array(var)/var[0]}, index=np.arange(1,len(var)+1))"
      ],
      "execution_count": null,
      "outputs": [
        {
          "output_type": "execute_result",
          "data": {
            "text/html": [
              "<div>\n",
              "<style scoped>\n",
              "    .dataframe tbody tr th:only-of-type {\n",
              "        vertical-align: middle;\n",
              "    }\n",
              "\n",
              "    .dataframe tbody tr th {\n",
              "        vertical-align: top;\n",
              "    }\n",
              "\n",
              "    .dataframe thead th {\n",
              "        text-align: right;\n",
              "    }\n",
              "</style>\n",
              "<table border=\"1\" class=\"dataframe\">\n",
              "  <thead>\n",
              "    <tr style=\"text-align: right;\">\n",
              "      <th></th>\n",
              "      <th>Fobj</th>\n",
              "      <th>p-%</th>\n",
              "    </tr>\n",
              "  </thead>\n",
              "  <tbody>\n",
              "    <tr>\n",
              "      <th>1</th>\n",
              "      <td>525501.089759</td>\n",
              "      <td>100.000000</td>\n",
              "    </tr>\n",
              "    <tr>\n",
              "      <th>2</th>\n",
              "      <td>215388.435290</td>\n",
              "      <td>40.987248</td>\n",
              "    </tr>\n",
              "    <tr>\n",
              "      <th>3</th>\n",
              "      <td>95512.703433</td>\n",
              "      <td>18.175548</td>\n",
              "    </tr>\n",
              "    <tr>\n",
              "      <th>4</th>\n",
              "      <td>44460.478922</td>\n",
              "      <td>8.460587</td>\n",
              "    </tr>\n",
              "    <tr>\n",
              "      <th>5</th>\n",
              "      <td>22703.388178</td>\n",
              "      <td>4.320331</td>\n",
              "    </tr>\n",
              "    <tr>\n",
              "      <th>6</th>\n",
              "      <td>13550.645212</td>\n",
              "      <td>2.578614</td>\n",
              "    </tr>\n",
              "    <tr>\n",
              "      <th>7</th>\n",
              "      <td>9072.848945</td>\n",
              "      <td>1.726514</td>\n",
              "    </tr>\n",
              "    <tr>\n",
              "      <th>8</th>\n",
              "      <td>5722.063628</td>\n",
              "      <td>1.088878</td>\n",
              "    </tr>\n",
              "    <tr>\n",
              "      <th>9</th>\n",
              "      <td>4466.531698</td>\n",
              "      <td>0.849957</td>\n",
              "    </tr>\n",
              "  </tbody>\n",
              "</table>\n",
              "</div>"
            ],
            "text/plain": [
              "            Fobj         p-%\n",
              "1  525501.089759  100.000000\n",
              "2  215388.435290   40.987248\n",
              "3   95512.703433   18.175548\n",
              "4   44460.478922    8.460587\n",
              "5   22703.388178    4.320331\n",
              "6   13550.645212    2.578614\n",
              "7    9072.848945    1.726514\n",
              "8    5722.063628    1.088878\n",
              "9    4466.531698    0.849957"
            ]
          },
          "metadata": {},
          "execution_count": 34
        }
      ]
    },
    {
      "cell_type": "code",
      "metadata": {
        "colab": {
          "base_uri": "https://localhost:8080/"
        },
        "id": "TvMAoZrCO5FE",
        "outputId": "3abd219e-ef7c-4215-9284-b2d91e8e8e72"
      },
      "source": [
        "sns.set(style='white', font_scale=1.5, rc={'figure.figsize':(7,7)})\n",
        "plt.plot(range(1,len(var)+1), (var))"
      ],
      "execution_count": null,
      "outputs": [
        {
          "output_type": "execute_result",
          "data": {
            "text/plain": [
              "[<matplotlib.lines.Line2D at 0x7fe552f1f0d0>]"
            ]
          },
          "metadata": {},
          "execution_count": 35
        },
        {
          "output_type": "display_data",
          "data": {
            "image/png": "[encoded data removed]",
            "text/plain": [
              "<Figure size 504x504 with 1 Axes>"
            ]
          },
          "metadata": {}
        }
      ]
    },
    {
      "cell_type": "markdown",
      "metadata": {
        "id": "iHqXIroPR-8L"
      },
      "source": [
        "Ya sea considerando la Tabla o el método del codo, nos inclinamos por usar 3 clusters. \n"
      ]
    },
    {
      "cell_type": "code",
      "metadata": {
        "colab": {
          "base_uri": "https://localhost:8080/"
        },
        "id": "serC84cMSDt_",
        "outputId": "f1d9b6ad-9343-44c9-f389-a59c5169c984"
      },
      "source": [
        "kmeans=KMeans(n_clusters=3, init='k-means++')\n",
        "kmeans.fit(X)\n",
        "clusters=kmeans.fit_predict(X)\n",
        "df_sweing['label']=clusters\n",
        "\n",
        "plt.scatter(df_sweing.incentive[df_sweing.label==0], df_sweing.actual_productivity[df_sweing.label==0], color='yellow')\n",
        "plt.scatter(df_sweing.incentive[df_sweing.label==1], df_sweing.actual_productivity[df_sweing.label==1], color='orange')\n",
        "plt.scatter(df_sweing.incentive[df_sweing.label==2], df_sweing.actual_productivity[df_sweing.label==2], color='red')\n",
        "\n",
        "plt.scatter(kmeans.cluster_centers_[:,0], kmeans.cluster_centers_[:,1], color='black', marker='x', s=150)\n",
        "plt.xlabel('Incentive')\n",
        "plt.ylabel('Actual Productivity')"
      ],
      "execution_count": null,
      "outputs": [
        {
          "output_type": "stream",
          "name": "stderr",
          "text": [
            "/usr/local/lib/python3.7/dist-packages/ipykernel_launcher.py:4: SettingWithCopyWarning: \n",
            "A value is trying to be set on a copy of a slice from a DataFrame.\n",
            "Try using .loc[row_indexer,col_indexer] = value instead\n",
            "\n",
            "See the caveats in the documentation: https://pandas.pydata.org/pandas-docs/stable/user_guide/indexing.html#returning-a-view-versus-a-copy\n",
            "  after removing the cwd from sys.path.\n"
          ]
        },
        {
          "output_type": "execute_result",
          "data": {
            "text/plain": [
              "Text(0, 0.5, 'Actual Productivity')"
            ]
          },
          "metadata": {},
          "execution_count": 36
        },
        {
          "output_type": "display_data",
          "data": {
            "image/png": "[encoded data removed]",
            "text/plain": [
              "<Figure size 504x504 with 1 Axes>"
            ]
          },
          "metadata": {}
        }
      ]
    },
    {
      "cell_type": "markdown",
      "metadata": {
        "id": "CPawCgl15yKz"
      },
      "source": [
        "# Postwork 4\n",
        "\n",
        "- Evalúa si tu proyecto puede resolverse con un algoritmo de regresión. Si tu problema requiere que los datos vayan a ciertas categorías, puede que un algoritmo de regresión lineal no te sea tan útil. En cambio, si lo que necesitas es predecir cierta salida con base en múltiples entradas, o si necesitas predecir cierto dato con base en N datos anteriores, la regresión es tu herramienta.\n",
        "\n",
        "- Ahora que sabes que tu problema puede resolverse con un algoritmo de regresión, primero construye un dataset de entrenamiento y uno de prueba, con tus funciones de MLUtilities. Puede que tengas que agregar funciones de MLUtilities nuevas, sobre todo si manejas series de tiempo. Utiliza los ejemplos y los retos para auxiliarte.\n",
        "\n",
        "- Lleva tu bitácora de experimentos y prueba variar la cantidad de datos de entrenamiento y de prueba. También prueba cómo te funciona el utilizar una función lineal, polinomial de grado 2, grado 3 o grado 4. Puedes intentar con más grados si lo deseas, pero asegúrate de que mejore el desempeño antes de agregar grados.\n",
        "\n",
        "- A veces, solamente un dato en una serie de tiempo no te da respuestas satisfactorias. Por ejemplo, calcular el clima de un día dados los climas anteriores puede darte un resultado aceptable, pero si combinas varias series de tiempo en un regresor lineal, ¡puede que tu desempeño mejore! no tengas miedo de combinar series de tiempo, siempre y cuando mantengas un orden."
      ]
    },
    {
      "cell_type": "markdown",
      "metadata": {
        "id": "i6IfvNtE9j3P"
      },
      "source": [
        "En el Postwork 3 pudo verse que hay un par variables que tienen coeficientes de correlación de 0.7 y 0.8 al revisar su relación con el desempeño real del equipo de costura. Con estas variables, se realizará un modelo de regresión lineal múltiple que permita predecir el desempeño del equipo de costura. "
      ]
    },
    {
      "cell_type": "code",
      "metadata": {
        "id": "UNr0iBdp5-89"
      },
      "source": [
        "# En este caso, se van a realizar un modelo de regresión lineal para buscar predecir\n",
        "# la productividad del equipo de costura en términos de las variables que tienen\n",
        "# una correlación alta con esa variable (esas matrices de correlación se\n",
        "# encuentran en el postwork 3)\n",
        "X = df_sweing[[\"incentive\", \"targeted_productivity\"]]\n",
        "y = df_sweing[\"actual_productivity\"]"
      ],
      "execution_count": null,
      "outputs": []
    },
    {
      "cell_type": "code",
      "metadata": {
        "id": "ZKVOAnJL6BGP",
        "colab": {
          "base_uri": "https://localhost:8080/"
        },
        "outputId": "51469a0b-b1f1-4439-bd85-73e58d3b9036"
      },
      "source": [
        "# Se realiza la separación del dataset en conjunto de entrenamiento\n",
        "# y conjunto de prueba\n",
        "X_train, X_val, X_test, y_train, y_val, y_test = mlu.particionar(X, y, 0.7, 0, 0.3)"
      ],
      "execution_count": null,
      "outputs": [
        {
          "output_type": "stream",
          "name": "stdout",
          "text": [
            "0.3\n"
          ]
        }
      ]
    },
    {
      "cell_type": "code",
      "metadata": {
        "colab": {
          "base_uri": "https://localhost:8080/"
        },
        "id": "XGpkiLsg6F0I",
        "outputId": "e87d595a-b572-4b7a-fc01-06fd284a71dc"
      },
      "source": [
        "# Se define y ajusta la regresión lineal\n",
        "lin_model = LinearRegression()\n",
        "lin_model.fit(X_train, y_train)"
      ],
      "execution_count": null,
      "outputs": [
        {
          "output_type": "execute_result",
          "data": {
            "text/plain": [
              "LinearRegression(copy_X=True, fit_intercept=True, n_jobs=None, normalize=False)"
            ]
          },
          "metadata": {},
          "execution_count": 39
        }
      ]
    },
    {
      "cell_type": "markdown",
      "metadata": {
        "id": "Bl6u27XZ-Qjt"
      },
      "source": [
        "Una vez entrenado el modelo de regresión, se evaluará."
      ]
    },
    {
      "cell_type": "code",
      "metadata": {
        "colab": {
          "base_uri": "https://localhost:8080/"
        },
        "id": "ckLsduBV6Hmr",
        "outputId": "fb07df3b-8d2e-49cd-9c74-09f3004713c5"
      },
      "source": [
        "# Se evalúan las predicciones con el conjunto de entrenamiento\n",
        "y_train_predict = lin_model.predict(X_train)\n",
        "MSE = mean_squared_error(y_train,y_train_predict)\n",
        "print(\"Entrenamiento: MSE = \"+str(MSE))\n",
        "\n",
        "# Se evalúan las predicciones con el conjunto de prueba\n",
        "y_test_predict = lin_model.predict(X_test)\n",
        "MSE = (mean_squared_error(y_test, y_test_predict))\n",
        "print(\"Pruebas: MSE = \"+str(MSE))"
      ],
      "execution_count": null,
      "outputs": [
        {
          "output_type": "stream",
          "name": "stdout",
          "text": [
            "Entrenamiento: MSE = 0.005651965522756769\n",
            "Pruebas: MSE = 0.005203998290547549\n"
          ]
        }
      ]
    },
    {
      "cell_type": "code",
      "metadata": {
        "colab": {
          "base_uri": "https://localhost:8080/"
        },
        "id": "NiMJmOvN82FK",
        "outputId": "fafb59d4-3a05-46da-d3b5-0a71cf9ef895"
      },
      "source": [
        "# Se evalúan las predicciones con el conjunto de entrenamiento\n",
        "R2 = r2_score(y_train,y_train_predict)\n",
        "print(\"Entrenamiento: R2 = \"+str(R2))\n",
        "\n",
        "# Se evalúan las predicciones con el conjunto de prueba\n",
        "R2 = r2_score(y_test, y_test_predict)\n",
        "print(\"Pruebas: R2 = \"+str(R2))"
      ],
      "execution_count": null,
      "outputs": [
        {
          "output_type": "stream",
          "name": "stdout",
          "text": [
            "Entrenamiento: R2 = 0.7680800209847738\n",
            "Pruebas: R2 = 0.7721707159033184\n"
          ]
        }
      ]
    },
    {
      "cell_type": "markdown",
      "metadata": {
        "id": "zDRyLfpl-WSR"
      },
      "source": [
        "Para comenzar, puede verse que el MSE no es muy alto. Sin embargo, las variables que se buscan predecir se encuentran en el intervalo de 0 a 1, aproximadamente, por lo que ahí puede haber cierta ambigüedad sobre la relevancia de ese error. El orden de magnitud de los datos es de 0.1. En consecuencia, el error relativo es del orden del 0.5%. Parece que es un buen modelo.\n",
        "\n",
        "Otra métrica es el coeficiente de determinación $R^2$, que en este caso parece estar en torno a 0.77. Esto sugiere que es un buen modelo. A su vez, también se puede calcular la raíz del coeficiente de determinación para estimar el coeficiente de correlación del modelo: es de 0.88. Esto significa que la correlación del nuevo modelo con el par de variables produce mejores reusltados que las variables individuales."
      ]
    },
    {
      "cell_type": "code",
      "metadata": {
        "id": "UpDUnLj53yha"
      },
      "source": [
        "# Se reajusta el tamaño de las gráficas\n",
        "sns.set(style='white', font_scale=0.8, rc={'figure.figsize':(7,7)})"
      ],
      "execution_count": null,
      "outputs": []
    },
    {
      "cell_type": "code",
      "metadata": {
        "colab": {
          "base_uri": "https://localhost:8080/"
        },
        "id": "R7uOpvAj8gok",
        "outputId": "682b4899-d594-42a8-8a27-cfdcf03fad4d"
      },
      "source": [
        "# Se grafican las predicciones del conjunto de entrenamiento contra los\n",
        "# valores reales para revisar si hay overfitting\n",
        "sns.scatterplot(y_train, y_train_predict);\n",
        "plt.plot(np.linspace(y_train.min(),y_train.max()),\n",
        "         np.linspace(y_train.min(),y_train.max()), label=\"y=x\")\n",
        "\n",
        "plt.xlabel(\"Valores reales\")\n",
        "plt.ylabel(\"Predicciones\")\n",
        "plt.title(\"Predicciones vs Valores Reales (Conjunto de entrenamiento)\")\n",
        "plt.legend()\n",
        "\n",
        "plt.show()"
      ],
      "execution_count": null,
      "outputs": [
        {
          "output_type": "stream",
          "name": "stderr",
          "text": [
            "/usr/local/lib/python3.7/dist-packages/seaborn/_decorators.py:43: FutureWarning: Pass the following variables as keyword args: x, y. From version 0.12, the only valid positional argument will be `data`, and passing other arguments without an explicit keyword will result in an error or misinterpretation.\n",
            "  FutureWarning\n"
          ]
        },
        {
          "output_type": "display_data",
          "data": {
            "image/png": "[encoded data removed]",
            "text/plain": [
              "<Figure size 504x504 with 1 Axes>"
            ]
          },
          "metadata": {}
        }
      ]
    },
    {
      "cell_type": "code",
      "metadata": {
        "colab": {
          "base_uri": "https://localhost:8080/"
        },
        "id": "CNXiaoLq6JuE",
        "outputId": "75267c86-c663-43b3-cca5-a395f8196819"
      },
      "source": [
        "# Se grafican las predicciones del conjunto de prueba contra los valores reales\n",
        "sns.scatterplot(y_test, y_test_predict);\n",
        "plt.plot(np.linspace(y_test.min(),y_test.max()),\n",
        "         np.linspace(y_test.min(),y_test.max()), label=\"y=x\")\n",
        "\n",
        "plt.xlabel(\"Valores reales\")\n",
        "plt.ylabel(\"Predicciones\")\n",
        "plt.title(\"Predicciones vs Valores Reales (Conjunto de prueba)\")\n",
        "plt.legend()\n",
        "\n",
        "plt.show()"
      ],
      "execution_count": null,
      "outputs": [
        {
          "output_type": "stream",
          "name": "stderr",
          "text": [
            "/usr/local/lib/python3.7/dist-packages/seaborn/_decorators.py:43: FutureWarning: Pass the following variables as keyword args: x, y. From version 0.12, the only valid positional argument will be `data`, and passing other arguments without an explicit keyword will result in an error or misinterpretation.\n",
            "  FutureWarning\n"
          ]
        },
        {
          "output_type": "display_data",
          "data": {
            "image/png": "[encoded data removed]",
            "text/plain": [
              "<Figure size 504x504 with 1 Axes>"
            ]
          },
          "metadata": {}
        }
      ]
    },
    {
      "cell_type": "markdown",
      "metadata": {
        "id": "xTi1PICYtAhU"
      },
      "source": [
        "# Postwork 5\n",
        "\n",
        "- Evalúa si tu proyecto puede resolverse con un árbol de decisión o un random forest: Tu problema puede resolverse con un solo árbol de decisión si puedes pensar en varios if / else que podrían clasificar tu problema en una de las dos clases. Este es un clasificador muy sencillo, y puedes intentar con un solo árbol de decisión.\n",
        "- Si tu problema pareciera ser más difícil de clasificar que esto, puedes probar con múltiples árboles de decisión en un random forest para ver si la clasificación mejora. Una buena clasificación es aquella que tiene más del 90% de precisión en el dataset de prueba. Una excelente clasificación es aquella que tiene más del 95% de precisión.\n",
        "- Un problema de clasificación requiere forzosamente una bitácora de pruebas. Aunque muchos no la usan, te recomiendo encarecidamente que lleves una, porque es fácil que te frustres y repitas experimentos innecesariamente.\n",
        "- Te recomiendo que empieces con pocos árboles en tu random forest, si llegas a necesitarlos. Y también te recomiendo que utilices valores impares para la cantidad de árboles. Puede ser un caso realmente extraño, pero ¿qué pasa si en una clasificación binaria, la mitad de árboles se va para positivo y la mitad para negativo? para evitar eso, siempre intenta con al menos N + 1 árboles, donde N es el número de clases."
      ]
    },
    {
      "cell_type": "code",
      "metadata": {
        "colab": {
          "base_uri": "https://localhost:8080/"
        },
        "id": "dj-Zb5e-7mGv",
        "outputId": "72551011-9d55-4226-b0a9-c3b0e5d7575e"
      },
      "source": [
        "df_pw_5=df.drop(columns=['date', 'day', 'team'])\n",
        "df_pw_5['quarter 1']=((df_pw_5['quarter']=='Quarter1')).astype('int')\n",
        "df_pw_5['quarter 2']=((df_pw_5['quarter']=='Quarter2')).astype('int')\n",
        "df_pw_5['quarter 3']=((df_pw_5['quarter']=='Quarter3')).astype('int')\n",
        "df_pw_5['quarter 4']=((df_pw_5['quarter']=='Quarter4')).astype('int')\n",
        "df_pw_5.head()"
      ],
      "execution_count": null,
      "outputs": [
        {
          "output_type": "execute_result",
          "data": {
            "text/html": [
              "<div>\n",
              "<style scoped>\n",
              "    .dataframe tbody tr th:only-of-type {\n",
              "        vertical-align: middle;\n",
              "    }\n",
              "\n",
              "    .dataframe tbody tr th {\n",
              "        vertical-align: top;\n",
              "    }\n",
              "\n",
              "    .dataframe thead th {\n",
              "        text-align: right;\n",
              "    }\n",
              "</style>\n",
              "<table border=\"1\" class=\"dataframe\">\n",
              "  <thead>\n",
              "    <tr style=\"text-align: right;\">\n",
              "      <th></th>\n",
              "      <th>quarter</th>\n",
              "      <th>department</th>\n",
              "      <th>targeted_productivity</th>\n",
              "      <th>smv</th>\n",
              "      <th>wip</th>\n",
              "      <th>over_time</th>\n",
              "      <th>incentive</th>\n",
              "      <th>idle_time</th>\n",
              "      <th>idle_men</th>\n",
              "      <th>no_of_style_change</th>\n",
              "      <th>no_of_workers</th>\n",
              "      <th>actual_productivity</th>\n",
              "      <th>quarter 1</th>\n",
              "      <th>quarter 2</th>\n",
              "      <th>quarter 3</th>\n",
              "      <th>quarter 4</th>\n",
              "    </tr>\n",
              "  </thead>\n",
              "  <tbody>\n",
              "    <tr>\n",
              "      <th>0</th>\n",
              "      <td>Quarter1</td>\n",
              "      <td>sweing</td>\n",
              "      <td>0.80</td>\n",
              "      <td>26.16</td>\n",
              "      <td>1108.0</td>\n",
              "      <td>7080</td>\n",
              "      <td>98</td>\n",
              "      <td>0.0</td>\n",
              "      <td>0</td>\n",
              "      <td>0</td>\n",
              "      <td>59.0</td>\n",
              "      <td>0.940725</td>\n",
              "      <td>1</td>\n",
              "      <td>0</td>\n",
              "      <td>0</td>\n",
              "      <td>0</td>\n",
              "    </tr>\n",
              "    <tr>\n",
              "      <th>1</th>\n",
              "      <td>Quarter1</td>\n",
              "      <td>finishing</td>\n",
              "      <td>0.75</td>\n",
              "      <td>3.94</td>\n",
              "      <td>0.0</td>\n",
              "      <td>960</td>\n",
              "      <td>0</td>\n",
              "      <td>0.0</td>\n",
              "      <td>0</td>\n",
              "      <td>0</td>\n",
              "      <td>8.0</td>\n",
              "      <td>0.886500</td>\n",
              "      <td>1</td>\n",
              "      <td>0</td>\n",
              "      <td>0</td>\n",
              "      <td>0</td>\n",
              "    </tr>\n",
              "    <tr>\n",
              "      <th>2</th>\n",
              "      <td>Quarter1</td>\n",
              "      <td>sweing</td>\n",
              "      <td>0.80</td>\n",
              "      <td>11.41</td>\n",
              "      <td>968.0</td>\n",
              "      <td>3660</td>\n",
              "      <td>50</td>\n",
              "      <td>0.0</td>\n",
              "      <td>0</td>\n",
              "      <td>0</td>\n",
              "      <td>30.5</td>\n",
              "      <td>0.800570</td>\n",
              "      <td>1</td>\n",
              "      <td>0</td>\n",
              "      <td>0</td>\n",
              "      <td>0</td>\n",
              "    </tr>\n",
              "    <tr>\n",
              "      <th>3</th>\n",
              "      <td>Quarter1</td>\n",
              "      <td>sweing</td>\n",
              "      <td>0.80</td>\n",
              "      <td>11.41</td>\n",
              "      <td>968.0</td>\n",
              "      <td>3660</td>\n",
              "      <td>50</td>\n",
              "      <td>0.0</td>\n",
              "      <td>0</td>\n",
              "      <td>0</td>\n",
              "      <td>30.5</td>\n",
              "      <td>0.800570</td>\n",
              "      <td>1</td>\n",
              "      <td>0</td>\n",
              "      <td>0</td>\n",
              "      <td>0</td>\n",
              "    </tr>\n",
              "    <tr>\n",
              "      <th>4</th>\n",
              "      <td>Quarter1</td>\n",
              "      <td>sweing</td>\n",
              "      <td>0.80</td>\n",
              "      <td>25.90</td>\n",
              "      <td>1170.0</td>\n",
              "      <td>1920</td>\n",
              "      <td>50</td>\n",
              "      <td>0.0</td>\n",
              "      <td>0</td>\n",
              "      <td>0</td>\n",
              "      <td>56.0</td>\n",
              "      <td>0.800382</td>\n",
              "      <td>1</td>\n",
              "      <td>0</td>\n",
              "      <td>0</td>\n",
              "      <td>0</td>\n",
              "    </tr>\n",
              "  </tbody>\n",
              "</table>\n",
              "</div>"
            ],
            "text/plain": [
              "    quarter department  targeted_productivity  ...  quarter 2  quarter 3  quarter 4\n",
              "0  Quarter1     sweing                   0.80  ...          0          0          0\n",
              "1  Quarter1  finishing                   0.75  ...          0          0          0\n",
              "2  Quarter1     sweing                   0.80  ...          0          0          0\n",
              "3  Quarter1     sweing                   0.80  ...          0          0          0\n",
              "4  Quarter1     sweing                   0.80  ...          0          0          0\n",
              "\n",
              "[5 rows x 16 columns]"
            ]
          },
          "metadata": {},
          "execution_count": 45
        }
      ]
    },
    {
      "cell_type": "markdown",
      "metadata": {
        "id": "wEu0pJX7ME28"
      },
      "source": [
        "En primer lugar, se eliminan las variables 'date', 'day' y 'team', dado que estas variables no van con el proposito que se presigue. Ademas, se crean columnas desglosar las valores categoricos nominales de las variables 'quarter' y 'department. "
      ]
    },
    {
      "cell_type": "code",
      "metadata": {
        "colab": {
          "base_uri": "https://localhost:8080/"
        },
        "id": "mNNIIuED_zrO",
        "outputId": "f49812f0-5418-4fa6-cd86-e21b9b1323c8"
      },
      "source": [
        "df_pw_5['dep sweing']=((df_pw_5['department']=='sweing')).astype('int')\n",
        "df_pw_5['dep finishing']=((df_pw_5['department']=='finishing')).astype('int')\n",
        "df_pw_5.head()"
      ],
      "execution_count": null,
      "outputs": [
        {
          "output_type": "execute_result",
          "data": {
            "text/html": [
              "<div>\n",
              "<style scoped>\n",
              "    .dataframe tbody tr th:only-of-type {\n",
              "        vertical-align: middle;\n",
              "    }\n",
              "\n",
              "    .dataframe tbody tr th {\n",
              "        vertical-align: top;\n",
              "    }\n",
              "\n",
              "    .dataframe thead th {\n",
              "        text-align: right;\n",
              "    }\n",
              "</style>\n",
              "<table border=\"1\" class=\"dataframe\">\n",
              "  <thead>\n",
              "    <tr style=\"text-align: right;\">\n",
              "      <th></th>\n",
              "      <th>quarter</th>\n",
              "      <th>department</th>\n",
              "      <th>targeted_productivity</th>\n",
              "      <th>smv</th>\n",
              "      <th>wip</th>\n",
              "      <th>over_time</th>\n",
              "      <th>incentive</th>\n",
              "      <th>idle_time</th>\n",
              "      <th>idle_men</th>\n",
              "      <th>no_of_style_change</th>\n",
              "      <th>no_of_workers</th>\n",
              "      <th>actual_productivity</th>\n",
              "      <th>quarter 1</th>\n",
              "      <th>quarter 2</th>\n",
              "      <th>quarter 3</th>\n",
              "      <th>quarter 4</th>\n",
              "      <th>dep sweing</th>\n",
              "      <th>dep finishing</th>\n",
              "    </tr>\n",
              "  </thead>\n",
              "  <tbody>\n",
              "    <tr>\n",
              "      <th>0</th>\n",
              "      <td>Quarter1</td>\n",
              "      <td>sweing</td>\n",
              "      <td>0.80</td>\n",
              "      <td>26.16</td>\n",
              "      <td>1108.0</td>\n",
              "      <td>7080</td>\n",
              "      <td>98</td>\n",
              "      <td>0.0</td>\n",
              "      <td>0</td>\n",
              "      <td>0</td>\n",
              "      <td>59.0</td>\n",
              "      <td>0.940725</td>\n",
              "      <td>1</td>\n",
              "      <td>0</td>\n",
              "      <td>0</td>\n",
              "      <td>0</td>\n",
              "      <td>1</td>\n",
              "      <td>0</td>\n",
              "    </tr>\n",
              "    <tr>\n",
              "      <th>1</th>\n",
              "      <td>Quarter1</td>\n",
              "      <td>finishing</td>\n",
              "      <td>0.75</td>\n",
              "      <td>3.94</td>\n",
              "      <td>0.0</td>\n",
              "      <td>960</td>\n",
              "      <td>0</td>\n",
              "      <td>0.0</td>\n",
              "      <td>0</td>\n",
              "      <td>0</td>\n",
              "      <td>8.0</td>\n",
              "      <td>0.886500</td>\n",
              "      <td>1</td>\n",
              "      <td>0</td>\n",
              "      <td>0</td>\n",
              "      <td>0</td>\n",
              "      <td>0</td>\n",
              "      <td>1</td>\n",
              "    </tr>\n",
              "    <tr>\n",
              "      <th>2</th>\n",
              "      <td>Quarter1</td>\n",
              "      <td>sweing</td>\n",
              "      <td>0.80</td>\n",
              "      <td>11.41</td>\n",
              "      <td>968.0</td>\n",
              "      <td>3660</td>\n",
              "      <td>50</td>\n",
              "      <td>0.0</td>\n",
              "      <td>0</td>\n",
              "      <td>0</td>\n",
              "      <td>30.5</td>\n",
              "      <td>0.800570</td>\n",
              "      <td>1</td>\n",
              "      <td>0</td>\n",
              "      <td>0</td>\n",
              "      <td>0</td>\n",
              "      <td>1</td>\n",
              "      <td>0</td>\n",
              "    </tr>\n",
              "    <tr>\n",
              "      <th>3</th>\n",
              "      <td>Quarter1</td>\n",
              "      <td>sweing</td>\n",
              "      <td>0.80</td>\n",
              "      <td>11.41</td>\n",
              "      <td>968.0</td>\n",
              "      <td>3660</td>\n",
              "      <td>50</td>\n",
              "      <td>0.0</td>\n",
              "      <td>0</td>\n",
              "      <td>0</td>\n",
              "      <td>30.5</td>\n",
              "      <td>0.800570</td>\n",
              "      <td>1</td>\n",
              "      <td>0</td>\n",
              "      <td>0</td>\n",
              "      <td>0</td>\n",
              "      <td>1</td>\n",
              "      <td>0</td>\n",
              "    </tr>\n",
              "    <tr>\n",
              "      <th>4</th>\n",
              "      <td>Quarter1</td>\n",
              "      <td>sweing</td>\n",
              "      <td>0.80</td>\n",
              "      <td>25.90</td>\n",
              "      <td>1170.0</td>\n",
              "      <td>1920</td>\n",
              "      <td>50</td>\n",
              "      <td>0.0</td>\n",
              "      <td>0</td>\n",
              "      <td>0</td>\n",
              "      <td>56.0</td>\n",
              "      <td>0.800382</td>\n",
              "      <td>1</td>\n",
              "      <td>0</td>\n",
              "      <td>0</td>\n",
              "      <td>0</td>\n",
              "      <td>1</td>\n",
              "      <td>0</td>\n",
              "    </tr>\n",
              "  </tbody>\n",
              "</table>\n",
              "</div>"
            ],
            "text/plain": [
              "    quarter department  ...  dep sweing  dep finishing\n",
              "0  Quarter1     sweing  ...           1              0\n",
              "1  Quarter1  finishing  ...           0              1\n",
              "2  Quarter1     sweing  ...           1              0\n",
              "3  Quarter1     sweing  ...           1              0\n",
              "4  Quarter1     sweing  ...           1              0\n",
              "\n",
              "[5 rows x 18 columns]"
            ]
          },
          "metadata": {},
          "execution_count": 46
        }
      ]
    },
    {
      "cell_type": "code",
      "metadata": {
        "colab": {
          "base_uri": "https://localhost:8080/"
        },
        "id": "PjFe5iBhAOAp",
        "outputId": "ca247fc1-2e0f-4b20-f966-0d1ad4e03fb5"
      },
      "source": [
        "df_pw5=df_pw_5.drop(columns=['quarter', 'department'])\n",
        "df_pw5.head()"
      ],
      "execution_count": null,
      "outputs": [
        {
          "output_type": "execute_result",
          "data": {
            "text/html": [
              "<div>\n",
              "<style scoped>\n",
              "    .dataframe tbody tr th:only-of-type {\n",
              "        vertical-align: middle;\n",
              "    }\n",
              "\n",
              "    .dataframe tbody tr th {\n",
              "        vertical-align: top;\n",
              "    }\n",
              "\n",
              "    .dataframe thead th {\n",
              "        text-align: right;\n",
              "    }\n",
              "</style>\n",
              "<table border=\"1\" class=\"dataframe\">\n",
              "  <thead>\n",
              "    <tr style=\"text-align: right;\">\n",
              "      <th></th>\n",
              "      <th>targeted_productivity</th>\n",
              "      <th>smv</th>\n",
              "      <th>wip</th>\n",
              "      <th>over_time</th>\n",
              "      <th>incentive</th>\n",
              "      <th>idle_time</th>\n",
              "      <th>idle_men</th>\n",
              "      <th>no_of_style_change</th>\n",
              "      <th>no_of_workers</th>\n",
              "      <th>actual_productivity</th>\n",
              "      <th>quarter 1</th>\n",
              "      <th>quarter 2</th>\n",
              "      <th>quarter 3</th>\n",
              "      <th>quarter 4</th>\n",
              "      <th>dep sweing</th>\n",
              "      <th>dep finishing</th>\n",
              "    </tr>\n",
              "  </thead>\n",
              "  <tbody>\n",
              "    <tr>\n",
              "      <th>0</th>\n",
              "      <td>0.80</td>\n",
              "      <td>26.16</td>\n",
              "      <td>1108.0</td>\n",
              "      <td>7080</td>\n",
              "      <td>98</td>\n",
              "      <td>0.0</td>\n",
              "      <td>0</td>\n",
              "      <td>0</td>\n",
              "      <td>59.0</td>\n",
              "      <td>0.940725</td>\n",
              "      <td>1</td>\n",
              "      <td>0</td>\n",
              "      <td>0</td>\n",
              "      <td>0</td>\n",
              "      <td>1</td>\n",
              "      <td>0</td>\n",
              "    </tr>\n",
              "    <tr>\n",
              "      <th>1</th>\n",
              "      <td>0.75</td>\n",
              "      <td>3.94</td>\n",
              "      <td>0.0</td>\n",
              "      <td>960</td>\n",
              "      <td>0</td>\n",
              "      <td>0.0</td>\n",
              "      <td>0</td>\n",
              "      <td>0</td>\n",
              "      <td>8.0</td>\n",
              "      <td>0.886500</td>\n",
              "      <td>1</td>\n",
              "      <td>0</td>\n",
              "      <td>0</td>\n",
              "      <td>0</td>\n",
              "      <td>0</td>\n",
              "      <td>1</td>\n",
              "    </tr>\n",
              "    <tr>\n",
              "      <th>2</th>\n",
              "      <td>0.80</td>\n",
              "      <td>11.41</td>\n",
              "      <td>968.0</td>\n",
              "      <td>3660</td>\n",
              "      <td>50</td>\n",
              "      <td>0.0</td>\n",
              "      <td>0</td>\n",
              "      <td>0</td>\n",
              "      <td>30.5</td>\n",
              "      <td>0.800570</td>\n",
              "      <td>1</td>\n",
              "      <td>0</td>\n",
              "      <td>0</td>\n",
              "      <td>0</td>\n",
              "      <td>1</td>\n",
              "      <td>0</td>\n",
              "    </tr>\n",
              "    <tr>\n",
              "      <th>3</th>\n",
              "      <td>0.80</td>\n",
              "      <td>11.41</td>\n",
              "      <td>968.0</td>\n",
              "      <td>3660</td>\n",
              "      <td>50</td>\n",
              "      <td>0.0</td>\n",
              "      <td>0</td>\n",
              "      <td>0</td>\n",
              "      <td>30.5</td>\n",
              "      <td>0.800570</td>\n",
              "      <td>1</td>\n",
              "      <td>0</td>\n",
              "      <td>0</td>\n",
              "      <td>0</td>\n",
              "      <td>1</td>\n",
              "      <td>0</td>\n",
              "    </tr>\n",
              "    <tr>\n",
              "      <th>4</th>\n",
              "      <td>0.80</td>\n",
              "      <td>25.90</td>\n",
              "      <td>1170.0</td>\n",
              "      <td>1920</td>\n",
              "      <td>50</td>\n",
              "      <td>0.0</td>\n",
              "      <td>0</td>\n",
              "      <td>0</td>\n",
              "      <td>56.0</td>\n",
              "      <td>0.800382</td>\n",
              "      <td>1</td>\n",
              "      <td>0</td>\n",
              "      <td>0</td>\n",
              "      <td>0</td>\n",
              "      <td>1</td>\n",
              "      <td>0</td>\n",
              "    </tr>\n",
              "  </tbody>\n",
              "</table>\n",
              "</div>"
            ],
            "text/plain": [
              "   targeted_productivity    smv     wip  ...  quarter 4  dep sweing  dep finishing\n",
              "0                   0.80  26.16  1108.0  ...          0           1              0\n",
              "1                   0.75   3.94     0.0  ...          0           0              1\n",
              "2                   0.80  11.41   968.0  ...          0           1              0\n",
              "3                   0.80  11.41   968.0  ...          0           1              0\n",
              "4                   0.80  25.90  1170.0  ...          0           1              0\n",
              "\n",
              "[5 rows x 16 columns]"
            ]
          },
          "metadata": {},
          "execution_count": 47
        }
      ]
    },
    {
      "cell_type": "markdown",
      "metadata": {
        "id": "NoqQRQiqUUqF"
      },
      "source": [
        "Ahora se discretiza la variable objetivo 'actual_producrivity' en 5 valores posibles. Asi, se crea la variable 'AP' que corresponde a 'actual_productivity' transformada en una variable categorica ordinal."
      ]
    },
    {
      "cell_type": "code",
      "metadata": {
        "colab": {
          "base_uri": "https://localhost:8080/"
        },
        "id": "aDQ13Fii8t9v",
        "outputId": "75ea034b-a8f2-47dc-a55d-ebbba74f2b68"
      },
      "source": [
        "AP=df_pw5.actual_productivity\n",
        "AP=AP/AP.max()\n",
        "AP*=5.49\n",
        "AP=np.round(AP)\n",
        "AP.unique()"
      ],
      "execution_count": null,
      "outputs": [
        {
          "output_type": "execute_result",
          "data": {
            "text/plain": [
              "array([5., 4., 3., 2., 1.])"
            ]
          },
          "metadata": {},
          "execution_count": 48
        }
      ]
    },
    {
      "cell_type": "code",
      "metadata": {
        "colab": {
          "base_uri": "https://localhost:8080/"
        },
        "id": "XD6zGwdWEhDT",
        "outputId": "0b23a6e4-1f86-46c3-a557-e1f7fc704f09"
      },
      "source": [
        "df_pw_5ch=df_pw5.drop(columns='actual_productivity')\n",
        "df_pw_5ch['AP']=AP.astype('int')\n",
        "df_pw_5ch.head()"
      ],
      "execution_count": null,
      "outputs": [
        {
          "output_type": "execute_result",
          "data": {
            "text/html": [
              "<div>\n",
              "<style scoped>\n",
              "    .dataframe tbody tr th:only-of-type {\n",
              "        vertical-align: middle;\n",
              "    }\n",
              "\n",
              "    .dataframe tbody tr th {\n",
              "        vertical-align: top;\n",
              "    }\n",
              "\n",
              "    .dataframe thead th {\n",
              "        text-align: right;\n",
              "    }\n",
              "</style>\n",
              "<table border=\"1\" class=\"dataframe\">\n",
              "  <thead>\n",
              "    <tr style=\"text-align: right;\">\n",
              "      <th></th>\n",
              "      <th>targeted_productivity</th>\n",
              "      <th>smv</th>\n",
              "      <th>wip</th>\n",
              "      <th>over_time</th>\n",
              "      <th>incentive</th>\n",
              "      <th>idle_time</th>\n",
              "      <th>idle_men</th>\n",
              "      <th>no_of_style_change</th>\n",
              "      <th>no_of_workers</th>\n",
              "      <th>quarter 1</th>\n",
              "      <th>quarter 2</th>\n",
              "      <th>quarter 3</th>\n",
              "      <th>quarter 4</th>\n",
              "      <th>dep sweing</th>\n",
              "      <th>dep finishing</th>\n",
              "      <th>AP</th>\n",
              "    </tr>\n",
              "  </thead>\n",
              "  <tbody>\n",
              "    <tr>\n",
              "      <th>0</th>\n",
              "      <td>0.80</td>\n",
              "      <td>26.16</td>\n",
              "      <td>1108.0</td>\n",
              "      <td>7080</td>\n",
              "      <td>98</td>\n",
              "      <td>0.0</td>\n",
              "      <td>0</td>\n",
              "      <td>0</td>\n",
              "      <td>59.0</td>\n",
              "      <td>1</td>\n",
              "      <td>0</td>\n",
              "      <td>0</td>\n",
              "      <td>0</td>\n",
              "      <td>1</td>\n",
              "      <td>0</td>\n",
              "      <td>5</td>\n",
              "    </tr>\n",
              "    <tr>\n",
              "      <th>1</th>\n",
              "      <td>0.75</td>\n",
              "      <td>3.94</td>\n",
              "      <td>0.0</td>\n",
              "      <td>960</td>\n",
              "      <td>0</td>\n",
              "      <td>0.0</td>\n",
              "      <td>0</td>\n",
              "      <td>0</td>\n",
              "      <td>8.0</td>\n",
              "      <td>1</td>\n",
              "      <td>0</td>\n",
              "      <td>0</td>\n",
              "      <td>0</td>\n",
              "      <td>0</td>\n",
              "      <td>1</td>\n",
              "      <td>4</td>\n",
              "    </tr>\n",
              "    <tr>\n",
              "      <th>2</th>\n",
              "      <td>0.80</td>\n",
              "      <td>11.41</td>\n",
              "      <td>968.0</td>\n",
              "      <td>3660</td>\n",
              "      <td>50</td>\n",
              "      <td>0.0</td>\n",
              "      <td>0</td>\n",
              "      <td>0</td>\n",
              "      <td>30.5</td>\n",
              "      <td>1</td>\n",
              "      <td>0</td>\n",
              "      <td>0</td>\n",
              "      <td>0</td>\n",
              "      <td>1</td>\n",
              "      <td>0</td>\n",
              "      <td>4</td>\n",
              "    </tr>\n",
              "    <tr>\n",
              "      <th>3</th>\n",
              "      <td>0.80</td>\n",
              "      <td>11.41</td>\n",
              "      <td>968.0</td>\n",
              "      <td>3660</td>\n",
              "      <td>50</td>\n",
              "      <td>0.0</td>\n",
              "      <td>0</td>\n",
              "      <td>0</td>\n",
              "      <td>30.5</td>\n",
              "      <td>1</td>\n",
              "      <td>0</td>\n",
              "      <td>0</td>\n",
              "      <td>0</td>\n",
              "      <td>1</td>\n",
              "      <td>0</td>\n",
              "      <td>4</td>\n",
              "    </tr>\n",
              "    <tr>\n",
              "      <th>4</th>\n",
              "      <td>0.80</td>\n",
              "      <td>25.90</td>\n",
              "      <td>1170.0</td>\n",
              "      <td>1920</td>\n",
              "      <td>50</td>\n",
              "      <td>0.0</td>\n",
              "      <td>0</td>\n",
              "      <td>0</td>\n",
              "      <td>56.0</td>\n",
              "      <td>1</td>\n",
              "      <td>0</td>\n",
              "      <td>0</td>\n",
              "      <td>0</td>\n",
              "      <td>1</td>\n",
              "      <td>0</td>\n",
              "      <td>4</td>\n",
              "    </tr>\n",
              "  </tbody>\n",
              "</table>\n",
              "</div>"
            ],
            "text/plain": [
              "   targeted_productivity    smv     wip  ...  dep sweing  dep finishing  AP\n",
              "0                   0.80  26.16  1108.0  ...           1              0   5\n",
              "1                   0.75   3.94     0.0  ...           0              1   4\n",
              "2                   0.80  11.41   968.0  ...           1              0   4\n",
              "3                   0.80  11.41   968.0  ...           1              0   4\n",
              "4                   0.80  25.90  1170.0  ...           1              0   4\n",
              "\n",
              "[5 rows x 16 columns]"
            ]
          },
          "metadata": {},
          "execution_count": 49
        }
      ]
    },
    {
      "cell_type": "markdown",
      "metadata": {
        "id": "6d-eF3yZVBMY"
      },
      "source": [
        "Las variables 'smv', 'wip', 'over_time', 'incetive', 'no_of_workers' poseen una gran cantidad de valores distintos. Por esta razon se transforman en variables categoricas ordinales de cinco valores posibles."
      ]
    },
    {
      "cell_type": "code",
      "metadata": {
        "id": "KUCbAC4xFqpJ"
      },
      "source": [
        "df_pw_5ch.smv=np.ceil(5*df_pw5.smv/df_pw5.smv.max()).astype('int')"
      ],
      "execution_count": null,
      "outputs": []
    },
    {
      "cell_type": "code",
      "metadata": {
        "id": "iDSJqwgGJT1g"
      },
      "source": [
        "df_pw_5ch.wip=np.ceil(5*df_pw5.wip/df_pw5.wip.max()).astype('int')"
      ],
      "execution_count": null,
      "outputs": []
    },
    {
      "cell_type": "code",
      "metadata": {
        "id": "mRcGK7WRJ-8u"
      },
      "source": [
        "df_pw_5ch.over_time=np.ceil(5*df_pw5.over_time/df_pw5.over_time.max()).astype('int')"
      ],
      "execution_count": null,
      "outputs": []
    },
    {
      "cell_type": "code",
      "metadata": {
        "id": "0hk-KnomKJyj"
      },
      "source": [
        "df_pw_5ch.incentive=np.ceil(5*df_pw5.incentive/df_pw5.incentive.max()).astype('int')"
      ],
      "execution_count": null,
      "outputs": []
    },
    {
      "cell_type": "code",
      "metadata": {
        "id": "UTPsIr7TKyOd"
      },
      "source": [
        "df_pw_5ch.no_of_workers=np.ceil(5*df_pw5.no_of_workers/df_pw5.no_of_workers.max()).astype('int')"
      ],
      "execution_count": null,
      "outputs": []
    },
    {
      "cell_type": "code",
      "metadata": {
        "colab": {
          "base_uri": "https://localhost:8080/"
        },
        "id": "aiE9AAOvJcIM",
        "outputId": "150d6c75-086a-495e-aa97-13ecb03960b2"
      },
      "source": [
        "df_pw_5ch.head()"
      ],
      "execution_count": null,
      "outputs": [
        {
          "output_type": "execute_result",
          "data": {
            "text/html": [
              "<div>\n",
              "<style scoped>\n",
              "    .dataframe tbody tr th:only-of-type {\n",
              "        vertical-align: middle;\n",
              "    }\n",
              "\n",
              "    .dataframe tbody tr th {\n",
              "        vertical-align: top;\n",
              "    }\n",
              "\n",
              "    .dataframe thead th {\n",
              "        text-align: right;\n",
              "    }\n",
              "</style>\n",
              "<table border=\"1\" class=\"dataframe\">\n",
              "  <thead>\n",
              "    <tr style=\"text-align: right;\">\n",
              "      <th></th>\n",
              "      <th>targeted_productivity</th>\n",
              "      <th>smv</th>\n",
              "      <th>wip</th>\n",
              "      <th>over_time</th>\n",
              "      <th>incentive</th>\n",
              "      <th>idle_time</th>\n",
              "      <th>idle_men</th>\n",
              "      <th>no_of_style_change</th>\n",
              "      <th>no_of_workers</th>\n",
              "      <th>quarter 1</th>\n",
              "      <th>quarter 2</th>\n",
              "      <th>quarter 3</th>\n",
              "      <th>quarter 4</th>\n",
              "      <th>dep sweing</th>\n",
              "      <th>dep finishing</th>\n",
              "      <th>AP</th>\n",
              "    </tr>\n",
              "  </thead>\n",
              "  <tbody>\n",
              "    <tr>\n",
              "      <th>0</th>\n",
              "      <td>0.80</td>\n",
              "      <td>3</td>\n",
              "      <td>1</td>\n",
              "      <td>2</td>\n",
              "      <td>1</td>\n",
              "      <td>0.0</td>\n",
              "      <td>0</td>\n",
              "      <td>0</td>\n",
              "      <td>4</td>\n",
              "      <td>1</td>\n",
              "      <td>0</td>\n",
              "      <td>0</td>\n",
              "      <td>0</td>\n",
              "      <td>1</td>\n",
              "      <td>0</td>\n",
              "      <td>5</td>\n",
              "    </tr>\n",
              "    <tr>\n",
              "      <th>1</th>\n",
              "      <td>0.75</td>\n",
              "      <td>1</td>\n",
              "      <td>0</td>\n",
              "      <td>1</td>\n",
              "      <td>0</td>\n",
              "      <td>0.0</td>\n",
              "      <td>0</td>\n",
              "      <td>0</td>\n",
              "      <td>1</td>\n",
              "      <td>1</td>\n",
              "      <td>0</td>\n",
              "      <td>0</td>\n",
              "      <td>0</td>\n",
              "      <td>0</td>\n",
              "      <td>1</td>\n",
              "      <td>4</td>\n",
              "    </tr>\n",
              "    <tr>\n",
              "      <th>2</th>\n",
              "      <td>0.80</td>\n",
              "      <td>2</td>\n",
              "      <td>1</td>\n",
              "      <td>1</td>\n",
              "      <td>1</td>\n",
              "      <td>0.0</td>\n",
              "      <td>0</td>\n",
              "      <td>0</td>\n",
              "      <td>2</td>\n",
              "      <td>1</td>\n",
              "      <td>0</td>\n",
              "      <td>0</td>\n",
              "      <td>0</td>\n",
              "      <td>1</td>\n",
              "      <td>0</td>\n",
              "      <td>4</td>\n",
              "    </tr>\n",
              "    <tr>\n",
              "      <th>3</th>\n",
              "      <td>0.80</td>\n",
              "      <td>2</td>\n",
              "      <td>1</td>\n",
              "      <td>1</td>\n",
              "      <td>1</td>\n",
              "      <td>0.0</td>\n",
              "      <td>0</td>\n",
              "      <td>0</td>\n",
              "      <td>2</td>\n",
              "      <td>1</td>\n",
              "      <td>0</td>\n",
              "      <td>0</td>\n",
              "      <td>0</td>\n",
              "      <td>1</td>\n",
              "      <td>0</td>\n",
              "      <td>4</td>\n",
              "    </tr>\n",
              "    <tr>\n",
              "      <th>4</th>\n",
              "      <td>0.80</td>\n",
              "      <td>3</td>\n",
              "      <td>1</td>\n",
              "      <td>1</td>\n",
              "      <td>1</td>\n",
              "      <td>0.0</td>\n",
              "      <td>0</td>\n",
              "      <td>0</td>\n",
              "      <td>4</td>\n",
              "      <td>1</td>\n",
              "      <td>0</td>\n",
              "      <td>0</td>\n",
              "      <td>0</td>\n",
              "      <td>1</td>\n",
              "      <td>0</td>\n",
              "      <td>4</td>\n",
              "    </tr>\n",
              "  </tbody>\n",
              "</table>\n",
              "</div>"
            ],
            "text/plain": [
              "   targeted_productivity  smv  wip  ...  dep sweing  dep finishing  AP\n",
              "0                   0.80    3    1  ...           1              0   5\n",
              "1                   0.75    1    0  ...           0              1   4\n",
              "2                   0.80    2    1  ...           1              0   4\n",
              "3                   0.80    2    1  ...           1              0   4\n",
              "4                   0.80    3    1  ...           1              0   4\n",
              "\n",
              "[5 rows x 16 columns]"
            ]
          },
          "metadata": {},
          "execution_count": 55
        }
      ]
    },
    {
      "cell_type": "markdown",
      "metadata": {
        "id": "SiWKDCT_WK9L"
      },
      "source": [
        "En este punto, ya es posible aplicar el algoritmo RandomForestClassifier sin problemas."
      ]
    },
    {
      "cell_type": "code",
      "metadata": {
        "id": "TpAnT1eyNv4s"
      },
      "source": [
        "from sklearn.model_selection import train_test_split\n",
        "from sklearn.ensemble import RandomForestClassifier\n",
        "Xtrain, Xtest, ytrain, ytest = train_test_split(df_pw_5ch.drop(columns='AP'), df_pw_5ch.AP,\n",
        "                                                random_state=0)\n",
        "model = RandomForestClassifier()\n",
        "model.fit(Xtrain, ytrain)\n",
        "ypred = model.predict(Xtest)"
      ],
      "execution_count": null,
      "outputs": []
    },
    {
      "cell_type": "code",
      "metadata": {
        "colab": {
          "base_uri": "https://localhost:8080/"
        },
        "id": "5Ak3QM-qn60s",
        "outputId": "8176ce65-5d19-4c4f-f263-8787722bc0a4"
      },
      "source": [
        "from sklearn import metrics\n",
        "print(metrics.classification_report(ypred, ytest))"
      ],
      "execution_count": null,
      "outputs": [
        {
          "output_type": "stream",
          "name": "stdout",
          "text": [
            "              precision    recall  f1-score   support\n",
            "\n",
            "           1       0.12      0.12      0.12         8\n",
            "           2       0.41      0.40      0.41        30\n",
            "           3       0.64      0.57      0.61        80\n",
            "           4       0.75      0.75      0.75       159\n",
            "           5       0.30      0.39      0.34        23\n",
            "\n",
            "    accuracy                           0.63       300\n",
            "   macro avg       0.44      0.45      0.45       300\n",
            "weighted avg       0.63      0.63      0.63       300\n",
            "\n"
          ]
        }
      ]
    },
    {
      "cell_type": "code",
      "metadata": {
        "colab": {
          "base_uri": "https://localhost:8080/"
        },
        "id": "MlA2cIt_oObE",
        "outputId": "6bd6b992-762c-43a4-e07a-6f98792beea4"
      },
      "source": [
        "from sklearn.metrics import confusion_matrix\n",
        "mat = confusion_matrix(ytest, ypred)\n",
        "sns.heatmap(mat.T, square=True, annot=True, fmt='d', cbar=False)\n",
        "plt.xlabel('true label')\n",
        "plt.ylabel('predicted label');"
      ],
      "execution_count": null,
      "outputs": [
        {
          "output_type": "display_data",
          "data": {
            "image/png": "[encoded data removed]",
            "text/plain": [
              "<Figure size 504x504 with 1 Axes>"
            ]
          },
          "metadata": {}
        }
      ]
    },
    {
      "cell_type": "markdown",
      "metadata": {
        "id": "pId0_hOgWay-"
      },
      "source": [
        "Se puede notar que sin omitir ninguna de las variables contempladas el algoritmo tiene un desempeño bastante promedio. "
      ]
    },
    {
      "cell_type": "code",
      "metadata": {
        "colab": {
          "base_uri": "https://localhost:8080/"
        },
        "id": "9dxpzXlNodwH",
        "outputId": "34f2681f-a264-4a97-8ffa-e2499547a19c"
      },
      "source": [
        "Xtrain, Xtest, ytrain, ytest = train_test_split(df_pw_5ch.drop(columns=['AP', 'quarter 1', 'quarter 2', 'quarter 3', 'quarter 4']), \n",
        "                                                df_pw_5ch.AP)\n",
        "model = RandomForestClassifier()\n",
        "model.fit(Xtrain, ytrain)\n",
        "ypred = model.predict(Xtest)\n",
        "print(metrics.classification_report(ypred, ytest))"
      ],
      "execution_count": null,
      "outputs": [
        {
          "output_type": "stream",
          "name": "stdout",
          "text": [
            "              precision    recall  f1-score   support\n",
            "\n",
            "           1       0.20      0.33      0.25         3\n",
            "           2       0.29      0.43      0.35        21\n",
            "           3       0.44      0.74      0.55        46\n",
            "           4       0.92      0.62      0.74       220\n",
            "           5       0.13      0.50      0.20        10\n",
            "\n",
            "    accuracy                           0.62       300\n",
            "   macro avg       0.40      0.52      0.42       300\n",
            "weighted avg       0.77      0.62      0.66       300\n",
            "\n"
          ]
        }
      ]
    },
    {
      "cell_type": "markdown",
      "metadata": {
        "id": "adEqchWxWxeX"
      },
      "source": [
        "Al eliminar la variable 'quarter' no se puede afirmar que el algoritmo mejoro o empeoro."
      ]
    },
    {
      "cell_type": "code",
      "metadata": {
        "colab": {
          "base_uri": "https://localhost:8080/"
        },
        "id": "uf4pQDPvs0-a",
        "outputId": "c1794351-158f-447c-8098-a80916998cae"
      },
      "source": [
        "Xtrain, Xtest, ytrain, ytest = train_test_split(df_pw_5ch[['targeted_productivity', 'incentive', 'dep sweing']], \n",
        "                                                df_pw_5ch.AP)\n",
        "model = RandomForestClassifier()\n",
        "model.fit(Xtrain, ytrain)\n",
        "ypred = model.predict(Xtest)\n",
        "print(metrics.classification_report(ypred, ytest))"
      ],
      "execution_count": null,
      "outputs": [
        {
          "output_type": "stream",
          "name": "stdout",
          "text": [
            "              precision    recall  f1-score   support\n",
            "\n",
            "           1       0.00      0.00      0.00         0\n",
            "           2       0.30      0.67      0.41        12\n",
            "           3       0.56      0.72      0.63        53\n",
            "           4       0.94      0.63      0.75       231\n",
            "           5       0.05      0.50      0.09         4\n",
            "\n",
            "    accuracy                           0.64       300\n",
            "   macro avg       0.37      0.50      0.38       300\n",
            "weighted avg       0.84      0.64      0.71       300\n",
            "\n"
          ]
        },
        {
          "output_type": "stream",
          "name": "stderr",
          "text": [
            "/usr/local/lib/python3.7/dist-packages/sklearn/metrics/_classification.py:1272: UndefinedMetricWarning: Recall and F-score are ill-defined and being set to 0.0 in labels with no true samples. Use `zero_division` parameter to control this behavior.\n",
            "  _warn_prf(average, modifier, msg_start, len(result))\n"
          ]
        }
      ]
    },
    {
      "cell_type": "markdown",
      "metadata": {
        "id": "zyvrEm4TW_sU"
      },
      "source": [
        "Considerando unicamente las variables 'targeted_productivity' y 'incentive' tampoco se puede observar mejora alguna."
      ]
    },
    {
      "cell_type": "code",
      "metadata": {
        "colab": {
          "base_uri": "https://localhost:8080/"
        },
        "id": "bs4vGPGNuXaE",
        "outputId": "33f2b282-8ef0-46f3-8440-e39968ce9d66"
      },
      "source": [
        "Xtrain, Xtest, ytrain, ytest = train_test_split(df_pw_5ch[df_pw_5ch['dep sweing']==1][['targeted_productivity', 'incentive']], \n",
        "                                                df_pw_5ch[df_pw_5ch['dep sweing']==1]['AP'], random_state=1)\n",
        "model = RandomForestClassifier()\n",
        "model.fit(Xtrain, ytrain)\n",
        "ypred = model.predict(Xtest)\n",
        "print(metrics.classification_report(ypred, ytest))"
      ],
      "execution_count": null,
      "outputs": [
        {
          "output_type": "stream",
          "name": "stdout",
          "text": [
            "              precision    recall  f1-score   support\n",
            "\n",
            "           2       0.67      0.91      0.77        11\n",
            "           3       0.83      0.77      0.80        52\n",
            "           4       0.91      0.79      0.84       110\n",
            "           5       0.00      0.00      0.00         0\n",
            "\n",
            "    accuracy                           0.79       173\n",
            "   macro avg       0.60      0.62      0.60       173\n",
            "weighted avg       0.87      0.79      0.83       173\n",
            "\n"
          ]
        },
        {
          "output_type": "stream",
          "name": "stderr",
          "text": [
            "/usr/local/lib/python3.7/dist-packages/sklearn/metrics/_classification.py:1272: UndefinedMetricWarning: Recall and F-score are ill-defined and being set to 0.0 in labels with no true samples. Use `zero_division` parameter to control this behavior.\n",
            "  _warn_prf(average, modifier, msg_start, len(result))\n"
          ]
        }
      ]
    },
    {
      "cell_type": "markdown",
      "metadata": {
        "id": "1x0vslaJXjCi"
      },
      "source": [
        "Ahora, considerando unicamente los datos que ofrece el valor 'sweing' con las variables 'targeted_productivity' y 'incentive', la mejora es significativa."
      ]
    },
    {
      "cell_type": "code",
      "metadata": {
        "colab": {
          "base_uri": "https://localhost:8080/"
        },
        "id": "JNxd3jrpwC8K",
        "outputId": "ce98955b-4d37-41b2-df6a-245afdf066f3"
      },
      "source": [
        "mat = confusion_matrix(ytest, ypred)\n",
        "sns.heatmap(mat.T, square=True, annot=True, fmt='d', cbar=False)\n",
        "plt.xlabel('true label')\n",
        "plt.ylabel('predicted label');"
      ],
      "execution_count": null,
      "outputs": [
        {
          "output_type": "display_data",
          "data": {
            "image/png": "[encoded data removed]",
            "text/plain": [
              "<Figure size 504x504 with 1 Axes>"
            ]
          },
          "metadata": {}
        }
      ]
    },
    {
      "cell_type": "code",
      "metadata": {
        "colab": {
          "base_uri": "https://localhost:8080/"
        },
        "id": "MgKtXITMwmuh",
        "outputId": "f5dfc441-d3c4-429d-ccc5-69e034eae79c"
      },
      "source": [
        "Xtrain, Xtest, ytrain, ytest = train_test_split(df_pw_5ch[df_pw_5ch['dep sweing']==0][['targeted_productivity', 'incentive']], \n",
        "                                                df_pw_5ch[df_pw_5ch['dep sweing']==0]['AP'], random_state=1)\n",
        "model = RandomForestClassifier()\n",
        "model.fit(Xtrain, ytrain)\n",
        "ypred = model.predict(Xtest)\n",
        "print(metrics.classification_report(ypred, ytest))"
      ],
      "execution_count": null,
      "outputs": [
        {
          "output_type": "stream",
          "name": "stdout",
          "text": [
            "              precision    recall  f1-score   support\n",
            "\n",
            "           1       0.00      0.00      0.00         1\n",
            "           2       0.00      0.00      0.00         0\n",
            "           3       0.16      0.19      0.17        21\n",
            "           4       0.76      0.44      0.55       101\n",
            "           5       0.00      0.00      0.00         4\n",
            "\n",
            "    accuracy                           0.38       127\n",
            "   macro avg       0.18      0.13      0.15       127\n",
            "weighted avg       0.63      0.38      0.47       127\n",
            "\n"
          ]
        },
        {
          "output_type": "stream",
          "name": "stderr",
          "text": [
            "/usr/local/lib/python3.7/dist-packages/sklearn/metrics/_classification.py:1272: UndefinedMetricWarning: Recall and F-score are ill-defined and being set to 0.0 in labels with no true samples. Use `zero_division` parameter to control this behavior.\n",
            "  _warn_prf(average, modifier, msg_start, len(result))\n"
          ]
        }
      ]
    },
    {
      "cell_type": "markdown",
      "metadata": {
        "id": "FTGd_S67X9yK"
      },
      "source": [
        "Sin embargo, cuando se considera el valor 'finishing' el desempeño empeora significativamente. Esto nos dice que los datos ofrecidos por la variable 'finishing' puden estar perjudicando el desempeño del algoritmo. Esto encuentra sentido en el hecho que el departamento 'finishing' depende del departamento 'sweing'. Por lo que, a partir de aquí, se consideran unicamente los datos que corresponden al valor 'sweing'."
      ]
    },
    {
      "cell_type": "code",
      "metadata": {
        "colab": {
          "base_uri": "https://localhost:8080/"
        },
        "id": "C_vqj-V6wwBW",
        "outputId": "41c31663-2596-4a15-c868-7a065366bf21"
      },
      "source": [
        "mat = confusion_matrix(ytest, ypred)\n",
        "sns.heatmap(mat.T, square=True, annot=True, fmt='d', cbar=False)\n",
        "plt.xlabel('true label')\n",
        "plt.ylabel('predicted label');"
      ],
      "execution_count": null,
      "outputs": [
        {
          "output_type": "display_data",
          "data": {
            "image/png": "[encoded data removed]",
            "text/plain": [
              "<Figure size 504x504 with 1 Axes>"
            ]
          },
          "metadata": {}
        }
      ]
    },
    {
      "cell_type": "code",
      "metadata": {
        "colab": {
          "base_uri": "https://localhost:8080/"
        },
        "id": "cypkp6h8xLm4",
        "outputId": "cc92d375-3689-4cf8-d12d-ecdf1b53a45a"
      },
      "source": [
        "Xtrain, Xtest, ytrain, ytest = train_test_split(df_pw_5ch[df_pw_5ch['dep sweing']==1].drop(columns='AP'), \n",
        "                                                df_pw_5ch[df_pw_5ch['dep sweing']==1]['AP'], random_state=1)\n",
        "model = RandomForestClassifier()\n",
        "model.fit(Xtrain, ytrain)\n",
        "ypred = model.predict(Xtest)\n",
        "print(metrics.classification_report(ypred, ytest))"
      ],
      "execution_count": null,
      "outputs": [
        {
          "output_type": "stream",
          "name": "stdout",
          "text": [
            "              precision    recall  f1-score   support\n",
            "\n",
            "           1       0.00      0.00      0.00         2\n",
            "           2       0.60      0.82      0.69        11\n",
            "           3       0.65      0.78      0.70        40\n",
            "           4       0.97      0.78      0.87       119\n",
            "           5       0.07      1.00      0.13         1\n",
            "\n",
            "    accuracy                           0.77       173\n",
            "   macro avg       0.46      0.67      0.48       173\n",
            "weighted avg       0.85      0.77      0.80       173\n",
            "\n"
          ]
        },
        {
          "output_type": "stream",
          "name": "stderr",
          "text": [
            "/usr/local/lib/python3.7/dist-packages/sklearn/metrics/_classification.py:1272: UndefinedMetricWarning: Precision and F-score are ill-defined and being set to 0.0 in labels with no predicted samples. Use `zero_division` parameter to control this behavior.\n",
            "  _warn_prf(average, modifier, msg_start, len(result))\n"
          ]
        }
      ]
    },
    {
      "cell_type": "code",
      "metadata": {
        "colab": {
          "base_uri": "https://localhost:8080/"
        },
        "id": "ECI46k7HxaLS",
        "outputId": "d6892a05-cd94-4d8e-c14b-f9bf22a32b77"
      },
      "source": [
        "mat = confusion_matrix(ytest, ypred)\n",
        "sns.heatmap(mat.T, square=True, annot=True, fmt='d', cbar=False)\n",
        "plt.xlabel('true label')\n",
        "plt.ylabel('predicted label');"
      ],
      "execution_count": null,
      "outputs": [
        {
          "output_type": "display_data",
          "data": {
            "image/png": "[encoded data removed]",
            "text/plain": [
              "<Figure size 504x504 with 1 Axes>"
            ]
          },
          "metadata": {}
        }
      ]
    },
    {
      "cell_type": "markdown",
      "metadata": {
        "id": "N45C2-QYgisZ"
      },
      "source": [
        "Ahora, el dataframe etiquetado como 'new_data' representa los datos obtenidos del departamento 'sweing'. Entonces, se hacen la discretizacion tomando en cuenta este dataframe."
      ]
    },
    {
      "cell_type": "code",
      "metadata": {
        "colab": {
          "base_uri": "https://localhost:8080/"
        },
        "id": "QuqVNT3lZnNC",
        "outputId": "610d71da-ff46-4a4d-e902-1073eca26474"
      },
      "source": [
        "new_data=df_sweing.drop(columns=['date', 'department', 'day', 'team'])\n",
        "new_data['quarter 1']=((new_data['quarter']=='Quarter1')).astype('int')\n",
        "new_data['quarter 2']=((new_data['quarter']=='Quarter2')).astype('int')\n",
        "new_data['quarter 3']=((new_data['quarter']=='Quarter3')).astype('int')\n",
        "new_data['quarter 4']=((new_data['quarter']=='Quarter4')).astype('int')\n",
        "\n",
        "AP=df_sweing.actual_productivity\n",
        "AP=AP/AP.max()\n",
        "AP*=5.49\n",
        "AP=np.round(AP)\n",
        "new_data['AP']=AP.astype('int')\n",
        "new_data=new_data.drop(columns=['quarter', 'actual_productivity'])\n",
        "new_data.head()"
      ],
      "execution_count": null,
      "outputs": [
        {
          "output_type": "execute_result",
          "data": {
            "text/html": [
              "<div>\n",
              "<style scoped>\n",
              "    .dataframe tbody tr th:only-of-type {\n",
              "        vertical-align: middle;\n",
              "    }\n",
              "\n",
              "    .dataframe tbody tr th {\n",
              "        vertical-align: top;\n",
              "    }\n",
              "\n",
              "    .dataframe thead th {\n",
              "        text-align: right;\n",
              "    }\n",
              "</style>\n",
              "<table border=\"1\" class=\"dataframe\">\n",
              "  <thead>\n",
              "    <tr style=\"text-align: right;\">\n",
              "      <th></th>\n",
              "      <th>targeted_productivity</th>\n",
              "      <th>smv</th>\n",
              "      <th>wip</th>\n",
              "      <th>over_time</th>\n",
              "      <th>incentive</th>\n",
              "      <th>idle_time</th>\n",
              "      <th>idle_men</th>\n",
              "      <th>no_of_style_change</th>\n",
              "      <th>no_of_workers</th>\n",
              "      <th>label</th>\n",
              "      <th>quarter 1</th>\n",
              "      <th>quarter 2</th>\n",
              "      <th>quarter 3</th>\n",
              "      <th>quarter 4</th>\n",
              "      <th>AP</th>\n",
              "    </tr>\n",
              "  </thead>\n",
              "  <tbody>\n",
              "    <tr>\n",
              "      <th>0</th>\n",
              "      <td>0.8</td>\n",
              "      <td>26.16</td>\n",
              "      <td>1108.0</td>\n",
              "      <td>7080</td>\n",
              "      <td>98</td>\n",
              "      <td>0.0</td>\n",
              "      <td>0</td>\n",
              "      <td>0</td>\n",
              "      <td>59.0</td>\n",
              "      <td>0</td>\n",
              "      <td>1</td>\n",
              "      <td>0</td>\n",
              "      <td>0</td>\n",
              "      <td>0</td>\n",
              "      <td>5</td>\n",
              "    </tr>\n",
              "    <tr>\n",
              "      <th>2</th>\n",
              "      <td>0.8</td>\n",
              "      <td>11.41</td>\n",
              "      <td>968.0</td>\n",
              "      <td>3660</td>\n",
              "      <td>50</td>\n",
              "      <td>0.0</td>\n",
              "      <td>0</td>\n",
              "      <td>0</td>\n",
              "      <td>30.5</td>\n",
              "      <td>2</td>\n",
              "      <td>1</td>\n",
              "      <td>0</td>\n",
              "      <td>0</td>\n",
              "      <td>0</td>\n",
              "      <td>4</td>\n",
              "    </tr>\n",
              "    <tr>\n",
              "      <th>3</th>\n",
              "      <td>0.8</td>\n",
              "      <td>11.41</td>\n",
              "      <td>968.0</td>\n",
              "      <td>3660</td>\n",
              "      <td>50</td>\n",
              "      <td>0.0</td>\n",
              "      <td>0</td>\n",
              "      <td>0</td>\n",
              "      <td>30.5</td>\n",
              "      <td>2</td>\n",
              "      <td>1</td>\n",
              "      <td>0</td>\n",
              "      <td>0</td>\n",
              "      <td>0</td>\n",
              "      <td>4</td>\n",
              "    </tr>\n",
              "    <tr>\n",
              "      <th>4</th>\n",
              "      <td>0.8</td>\n",
              "      <td>25.90</td>\n",
              "      <td>1170.0</td>\n",
              "      <td>1920</td>\n",
              "      <td>50</td>\n",
              "      <td>0.0</td>\n",
              "      <td>0</td>\n",
              "      <td>0</td>\n",
              "      <td>56.0</td>\n",
              "      <td>2</td>\n",
              "      <td>1</td>\n",
              "      <td>0</td>\n",
              "      <td>0</td>\n",
              "      <td>0</td>\n",
              "      <td>4</td>\n",
              "    </tr>\n",
              "    <tr>\n",
              "      <th>5</th>\n",
              "      <td>0.8</td>\n",
              "      <td>25.90</td>\n",
              "      <td>984.0</td>\n",
              "      <td>6720</td>\n",
              "      <td>38</td>\n",
              "      <td>0.0</td>\n",
              "      <td>0</td>\n",
              "      <td>0</td>\n",
              "      <td>56.0</td>\n",
              "      <td>2</td>\n",
              "      <td>1</td>\n",
              "      <td>0</td>\n",
              "      <td>0</td>\n",
              "      <td>0</td>\n",
              "      <td>4</td>\n",
              "    </tr>\n",
              "  </tbody>\n",
              "</table>\n",
              "</div>"
            ],
            "text/plain": [
              "   targeted_productivity    smv     wip  ...  quarter 3  quarter 4  AP\n",
              "0                    0.8  26.16  1108.0  ...          0          0   5\n",
              "2                    0.8  11.41   968.0  ...          0          0   4\n",
              "3                    0.8  11.41   968.0  ...          0          0   4\n",
              "4                    0.8  25.90  1170.0  ...          0          0   4\n",
              "5                    0.8  25.90   984.0  ...          0          0   4\n",
              "\n",
              "[5 rows x 15 columns]"
            ]
          },
          "metadata": {},
          "execution_count": 67
        }
      ]
    },
    {
      "cell_type": "code",
      "metadata": {
        "colab": {
          "base_uri": "https://localhost:8080/"
        },
        "id": "hYcryT9cdV7G",
        "outputId": "b4bcf981-23d7-495f-a572-37cf64ece827"
      },
      "source": [
        "for i in ['smv', 'wip', 'over_time', 'incentive', 'no_of_workers']:\n",
        "  new_data[i]=np.ceil(5*new_data[i]/new_data[i].max()).astype('int')\n",
        "new_data.head()"
      ],
      "execution_count": null,
      "outputs": [
        {
          "output_type": "execute_result",
          "data": {
            "text/html": [
              "<div>\n",
              "<style scoped>\n",
              "    .dataframe tbody tr th:only-of-type {\n",
              "        vertical-align: middle;\n",
              "    }\n",
              "\n",
              "    .dataframe tbody tr th {\n",
              "        vertical-align: top;\n",
              "    }\n",
              "\n",
              "    .dataframe thead th {\n",
              "        text-align: right;\n",
              "    }\n",
              "</style>\n",
              "<table border=\"1\" class=\"dataframe\">\n",
              "  <thead>\n",
              "    <tr style=\"text-align: right;\">\n",
              "      <th></th>\n",
              "      <th>targeted_productivity</th>\n",
              "      <th>smv</th>\n",
              "      <th>wip</th>\n",
              "      <th>over_time</th>\n",
              "      <th>incentive</th>\n",
              "      <th>idle_time</th>\n",
              "      <th>idle_men</th>\n",
              "      <th>no_of_style_change</th>\n",
              "      <th>no_of_workers</th>\n",
              "      <th>label</th>\n",
              "      <th>quarter 1</th>\n",
              "      <th>quarter 2</th>\n",
              "      <th>quarter 3</th>\n",
              "      <th>quarter 4</th>\n",
              "      <th>AP</th>\n",
              "    </tr>\n",
              "  </thead>\n",
              "  <tbody>\n",
              "    <tr>\n",
              "      <th>0</th>\n",
              "      <td>0.8</td>\n",
              "      <td>3</td>\n",
              "      <td>1</td>\n",
              "      <td>2</td>\n",
              "      <td>4</td>\n",
              "      <td>0.0</td>\n",
              "      <td>0</td>\n",
              "      <td>0</td>\n",
              "      <td>4</td>\n",
              "      <td>0</td>\n",
              "      <td>1</td>\n",
              "      <td>0</td>\n",
              "      <td>0</td>\n",
              "      <td>0</td>\n",
              "      <td>5</td>\n",
              "    </tr>\n",
              "    <tr>\n",
              "      <th>2</th>\n",
              "      <td>0.8</td>\n",
              "      <td>2</td>\n",
              "      <td>1</td>\n",
              "      <td>1</td>\n",
              "      <td>2</td>\n",
              "      <td>0.0</td>\n",
              "      <td>0</td>\n",
              "      <td>0</td>\n",
              "      <td>2</td>\n",
              "      <td>2</td>\n",
              "      <td>1</td>\n",
              "      <td>0</td>\n",
              "      <td>0</td>\n",
              "      <td>0</td>\n",
              "      <td>4</td>\n",
              "    </tr>\n",
              "    <tr>\n",
              "      <th>3</th>\n",
              "      <td>0.8</td>\n",
              "      <td>2</td>\n",
              "      <td>1</td>\n",
              "      <td>1</td>\n",
              "      <td>2</td>\n",
              "      <td>0.0</td>\n",
              "      <td>0</td>\n",
              "      <td>0</td>\n",
              "      <td>2</td>\n",
              "      <td>2</td>\n",
              "      <td>1</td>\n",
              "      <td>0</td>\n",
              "      <td>0</td>\n",
              "      <td>0</td>\n",
              "      <td>4</td>\n",
              "    </tr>\n",
              "    <tr>\n",
              "      <th>4</th>\n",
              "      <td>0.8</td>\n",
              "      <td>3</td>\n",
              "      <td>1</td>\n",
              "      <td>1</td>\n",
              "      <td>2</td>\n",
              "      <td>0.0</td>\n",
              "      <td>0</td>\n",
              "      <td>0</td>\n",
              "      <td>4</td>\n",
              "      <td>2</td>\n",
              "      <td>1</td>\n",
              "      <td>0</td>\n",
              "      <td>0</td>\n",
              "      <td>0</td>\n",
              "      <td>4</td>\n",
              "    </tr>\n",
              "    <tr>\n",
              "      <th>5</th>\n",
              "      <td>0.8</td>\n",
              "      <td>3</td>\n",
              "      <td>1</td>\n",
              "      <td>2</td>\n",
              "      <td>2</td>\n",
              "      <td>0.0</td>\n",
              "      <td>0</td>\n",
              "      <td>0</td>\n",
              "      <td>4</td>\n",
              "      <td>2</td>\n",
              "      <td>1</td>\n",
              "      <td>0</td>\n",
              "      <td>0</td>\n",
              "      <td>0</td>\n",
              "      <td>4</td>\n",
              "    </tr>\n",
              "  </tbody>\n",
              "</table>\n",
              "</div>"
            ],
            "text/plain": [
              "   targeted_productivity  smv  wip  ...  quarter 3  quarter 4  AP\n",
              "0                    0.8    3    1  ...          0          0   5\n",
              "2                    0.8    2    1  ...          0          0   4\n",
              "3                    0.8    2    1  ...          0          0   4\n",
              "4                    0.8    3    1  ...          0          0   4\n",
              "5                    0.8    3    1  ...          0          0   4\n",
              "\n",
              "[5 rows x 15 columns]"
            ]
          },
          "metadata": {},
          "execution_count": 68
        }
      ]
    },
    {
      "cell_type": "code",
      "metadata": {
        "colab": {
          "base_uri": "https://localhost:8080/"
        },
        "id": "uiVjhfxOeH68",
        "outputId": "5a6fab5a-aec2-4251-8ca1-d136342bb9b3"
      },
      "source": [
        "Xtrain, Xtest, ytrain, ytest = train_test_split(new_data.drop(columns='AP'), \n",
        "                                                new_data.AP, random_state=2)\n",
        "model = RandomForestClassifier()\n",
        "model.fit(Xtrain, ytrain)\n",
        "ypred = model.predict(Xtest)\n",
        "print(metrics.classification_report(ypred, ytest))"
      ],
      "execution_count": null,
      "outputs": [
        {
          "output_type": "stream",
          "name": "stdout",
          "text": [
            "              precision    recall  f1-score   support\n",
            "\n",
            "           1       0.00      0.00      0.00         2\n",
            "           2       0.53      0.91      0.67        11\n",
            "           3       0.83      0.80      0.81        54\n",
            "           4       0.95      0.88      0.92        93\n",
            "           5       0.80      0.92      0.86        13\n",
            "\n",
            "    accuracy                           0.85       173\n",
            "   macro avg       0.62      0.70      0.65       173\n",
            "weighted avg       0.86      0.85      0.85       173\n",
            "\n"
          ]
        }
      ]
    },
    {
      "cell_type": "markdown",
      "metadata": {
        "id": "yW-BGqbmhBIu"
      },
      "source": [
        "Ahora se cuenta con una precision de 0.85. "
      ]
    },
    {
      "cell_type": "code",
      "metadata": {
        "colab": {
          "base_uri": "https://localhost:8080/"
        },
        "id": "tckRno2VgH1J",
        "outputId": "5c04055f-6a0f-4885-ae8d-e5c53117920c"
      },
      "source": [
        "mat = confusion_matrix(ytest, ypred)\n",
        "sns.heatmap(mat.T, square=True, annot=True, fmt='d', cbar=False)\n",
        "plt.xlabel('true label')\n",
        "plt.ylabel('predicted label');"
      ],
      "execution_count": null,
      "outputs": [
        {
          "output_type": "display_data",
          "data": {
            "image/png": "[encoded data removed]",
            "text/plain": [
              "<Figure size 504x504 with 1 Axes>"
            ]
          },
          "metadata": {}
        }
      ]
    },
    {
      "cell_type": "code",
      "metadata": {
        "colab": {
          "base_uri": "https://localhost:8080/"
        },
        "id": "OsTLwdgrelCv",
        "outputId": "9c795540-8793-4c3a-d43b-e1d409287248"
      },
      "source": [
        "Xtrain, Xtest, ytrain, ytest = train_test_split(new_data[['targeted_productivity', 'incentive']], \n",
        "                                                new_data.AP, random_state=2)\n",
        "model = RandomForestClassifier()\n",
        "model.fit(Xtrain, ytrain)\n",
        "ypred = model.predict(Xtest)\n",
        "print(metrics.classification_report(ypred, ytest))"
      ],
      "execution_count": null,
      "outputs": [
        {
          "output_type": "stream",
          "name": "stdout",
          "text": [
            "              precision    recall  f1-score   support\n",
            "\n",
            "           1       0.00      0.00      0.00         0\n",
            "           2       0.58      0.92      0.71        12\n",
            "           3       0.87      0.79      0.83        57\n",
            "           4       0.95      0.88      0.92        93\n",
            "           5       0.73      1.00      0.85        11\n",
            "\n",
            "    accuracy                           0.86       173\n",
            "   macro avg       0.63      0.72      0.66       173\n",
            "weighted avg       0.88      0.86      0.87       173\n",
            "\n"
          ]
        },
        {
          "output_type": "stream",
          "name": "stderr",
          "text": [
            "/usr/local/lib/python3.7/dist-packages/sklearn/metrics/_classification.py:1272: UndefinedMetricWarning: Recall and F-score are ill-defined and being set to 0.0 in labels with no true samples. Use `zero_division` parameter to control this behavior.\n",
            "  _warn_prf(average, modifier, msg_start, len(result))\n"
          ]
        }
      ]
    },
    {
      "cell_type": "code",
      "metadata": {
        "colab": {
          "base_uri": "https://localhost:8080/"
        },
        "id": "H15K096eL5Er",
        "outputId": "48b9f678-d9b3-4482-9bfa-2a5ebe4e92f6"
      },
      "source": [
        "from sklearn.decomposition import PCA\n",
        "model = PCA(n_components=2) \n",
        "model.fit(new_data.drop(columns='AP'))\n",
        "                                                \n",
        "X_2D = model.transform(new_data.drop(columns='AP')) \n",
        "y=np.array(new_data.AP)\n",
        "sns.scatterplot(X_2D[:,0], X_2D[:,1], hue=y)"
      ],
      "execution_count": null,
      "outputs": [
        {
          "output_type": "stream",
          "name": "stderr",
          "text": [
            "/usr/local/lib/python3.7/dist-packages/seaborn/_decorators.py:43: FutureWarning: Pass the following variables as keyword args: x, y. From version 0.12, the only valid positional argument will be `data`, and passing other arguments without an explicit keyword will result in an error or misinterpretation.\n",
            "  FutureWarning\n"
          ]
        },
        {
          "output_type": "execute_result",
          "data": {
            "text/plain": [
              "<matplotlib.axes._subplots.AxesSubplot at 0x7fe552878dd0>"
            ]
          },
          "metadata": {},
          "execution_count": 72
        },
        {
          "output_type": "display_data",
          "data": {
            "image/png": "[encoded data removed]",
            "text/plain": [
              "<Figure size 504x504 with 1 Axes>"
            ]
          },
          "metadata": {}
        }
      ]
    },
    {
      "cell_type": "markdown",
      "metadata": {
        "id": "q7T1is-htfj8"
      },
      "source": [
        "# Postwork 6\n",
        "\n",
        "- Evalúa si tu proyecto puede resolverse con un algoritmo de redes neuronales artificiales. Las redes neuronales artificiales son excelentes clasificadores y puede que si ya tenías un problema a resolver con árboles de decisión, puedas aplicarlo también con redes neuronales.\n",
        "- Es crucial que en este paso registres los experimentos que hagas en una bitácora: a manera de consejo profesional, es muy fácil perderse entre topologías diferentes, cantidad de neuronas en cada capa, cantidad de capas, tasas de aprendizaje diferentes, y datos diferentes. Te recomiendo hacer una tabla en donde en un eje coloques las configuraciones y en otro eje coloques las tasas de aprendizaje.\n",
        "- Como las redes neuronales pueden sobreentrenarse o subentrenarse, es importante que experimentes con porcentajes diferentes de datasets y veas si mejoran o empeoran su desempeño. Utiliza K-fold si quieres resultados más confiables, y recuerda que, con cada valor de K, tienes que realizar K entrenamientos.\n",
        "- A menos de que tengas una gran computadora o mucho tiempo libre, evita utilizar LOOCV."
      ]
    },
    {
      "cell_type": "markdown",
      "metadata": {
        "id": "cPgyTG1JCyfK"
      },
      "source": [
        "Como la productividad real del equipo de acabado no puede estimarse a partir de un modelo lineal y, de hecho, aparenta no tener mucha correlación entre esta variable y el resto de los parámetros medidos, se optará por estudiar este grupo con una red neuronal."
      ]
    },
    {
      "cell_type": "code",
      "metadata": {
        "colab": {
          "base_uri": "https://localhost:8080/"
        },
        "id": "Fw7UUgpTtfj9",
        "outputId": "76a8ec8f-dfa5-4cb9-da66-ffdd4fca0d50"
      },
      "source": [
        "# Se define el dataframe con las variables no-nulas para el equipo de acabado\n",
        "df_classifier = df_finishing[[\"targeted_productivity\", \"smv\", \"over_time\",\n",
        "                              \"incentive\", \"no_of_workers\", \"actual_productivity\"]]\n",
        "\n",
        "# Se usa la versión discretizada de la actual productivity\n",
        "AP_classifier = df_classifier[\"actual_productivity\"]\n",
        "AP_classifier = AP_classifier/AP_classifier.max()\n",
        "AP_classifier*=5.49\n",
        "AP_classifier=np.round(AP_classifier)\n",
        "df_classifier[\"actual_productivity\"] = AP_classifier.astype('int')"
      ],
      "execution_count": null,
      "outputs": [
        {
          "output_type": "stream",
          "name": "stderr",
          "text": [
            "/usr/local/lib/python3.7/dist-packages/ipykernel_launcher.py:10: SettingWithCopyWarning: \n",
            "A value is trying to be set on a copy of a slice from a DataFrame.\n",
            "Try using .loc[row_indexer,col_indexer] = value instead\n",
            "\n",
            "See the caveats in the documentation: https://pandas.pydata.org/pandas-docs/stable/user_guide/indexing.html#returning-a-view-versus-a-copy\n",
            "  # Remove the CWD from sys.path while we load stuff.\n"
          ]
        }
      ]
    },
    {
      "cell_type": "code",
      "metadata": {
        "id": "xFEBEMGxJH9w"
      },
      "source": [
        "# Se escala el dataset\n",
        "escalador = StandardScaler()\n",
        "escala = escalador.fit(df_classifier.drop(columns=\"actual_productivity\"))\n",
        "\n",
        "df_scaled = escala.transform(df_classifier.drop(columns=\"actual_productivity\"))"
      ],
      "execution_count": null,
      "outputs": []
    },
    {
      "cell_type": "code",
      "metadata": {
        "id": "BuoVUmKhYKI3"
      },
      "source": [
        "# Vamos a definir el modelo de Keras\n",
        "red_neuronal = Sequential()\n",
        "red_neuronal.add(Dense(units=3, input_dim=5, activation=\"sigmoid\"))\n",
        "red_neuronal.add(Dense(units=6, activation=\"sigmoid\"))\n",
        "red_neuronal.add(Dense(units=6, activation=\"sigmoid\"))\n",
        "\n",
        "red_neuronal.compile(optimizer='adam', loss=\"categorical_crossentropy\", metrics=[\"Recall\"])"
      ],
      "execution_count": null,
      "outputs": []
    },
    {
      "cell_type": "code",
      "metadata": {
        "colab": {
          "base_uri": "https://localhost:8080/"
        },
        "id": "cZH46YpGKKEr",
        "outputId": "3b7a5d99-30e2-4033-ca89-3840b614f622"
      },
      "source": [
        "# Se utiliza una KFold para hacer una validación cruzada de\n",
        "# la red neuronal\n",
        "kfold = KFold(n_splits=5, random_state=20, shuffle=True)\n",
        "\n",
        "# Se definen las variables independientes y la variable dependiente\n",
        "X = df_scaled[:, :5]\n",
        "y = np.array(df_classifier[\"actual_productivity\"])\n",
        "\n",
        "ciclo = 1\n",
        "for indices_train, indices_test in kfold.split(X):\n",
        "  print(f\"Validación {ciclo}:\\n\")\n",
        "  # Se separan los datos de entrenamiento y de prueba\n",
        "  X_train, X_test = X[indices_train], X[indices_test]\n",
        "  y_train, y_test = y[indices_train], y[indices_test]\n",
        "\n",
        "  # Our vectorized labels\n",
        "  y_train = to_categorical(y_train)\n",
        "  y_test = to_categorical(y_test)\n",
        "\n",
        "  # Se entrena la red neuronal\n",
        "  # verbose=0 es para que no se impriman las epochs\n",
        "  red_neuronal.fit(X_train, y_train, epochs=150, verbose=0)\n",
        "\n",
        "  # Se evalúa la red\n",
        "  score = red_neuronal.evaluate(X_test, y_test, verbose=0)\n",
        "  print(f'Sensibilidad en el conjunto de prueba: {score[1]}\\n\\n---------------')  \n",
        "\n",
        "  ciclo+=1"
      ],
      "execution_count": null,
      "outputs": [
        {
          "output_type": "stream",
          "name": "stdout",
          "text": [
            "Validación 1:\n",
            "\n",
            "Sensibilidad en el conjunto de prueba: 0.9313725233078003\n",
            "\n",
            "---------------\n",
            "Validación 2:\n",
            "\n",
            "Sensibilidad en el conjunto de prueba: 0.9306930899620056\n",
            "\n",
            "---------------\n",
            "Validación 3:\n",
            "\n",
            "Sensibilidad en el conjunto de prueba: 0.8811880946159363\n",
            "\n",
            "---------------\n",
            "Validación 4:\n",
            "\n",
            "Sensibilidad en el conjunto de prueba: 0.9207921028137207\n",
            "\n",
            "---------------\n",
            "Validación 5:\n",
            "\n",
            "Sensibilidad en el conjunto de prueba: 0.8514851331710815\n",
            "\n",
            "---------------\n"
          ]
        }
      ]
    },
    {
      "cell_type": "code",
      "metadata": {
        "colab": {
          "base_uri": "https://localhost:8080/"
        },
        "id": "yElHtlfO84WT",
        "outputId": "df4fc6e0-c748-4c4c-b61c-585313753e1a"
      },
      "source": [
        "from sklearn import metrics\n",
        "\n",
        "y_pred = red_neuronal.predict(X_test)\n",
        "\n",
        "y_pred = np.argmax(y_pred, axis=1)\n",
        "print(metrics.classification_report(y_pred, np.argmax(y_test, axis=1)))"
      ],
      "execution_count": null,
      "outputs": [
        {
          "output_type": "stream",
          "name": "stdout",
          "text": [
            "              precision    recall  f1-score   support\n",
            "\n",
            "           1       0.00      0.00      0.00         0\n",
            "           2       0.14      0.14      0.14         7\n",
            "           3       0.26      0.60      0.37        15\n",
            "           4       0.82      0.37      0.51        76\n",
            "           5       0.11      0.67      0.18         3\n",
            "\n",
            "    accuracy                           0.40       101\n",
            "   macro avg       0.27      0.36      0.24       101\n",
            "weighted avg       0.67      0.40      0.45       101\n",
            "\n"
          ]
        },
        {
          "output_type": "stream",
          "name": "stderr",
          "text": [
            "/usr/local/lib/python3.7/dist-packages/sklearn/metrics/_classification.py:1272: UndefinedMetricWarning: Recall and F-score are ill-defined and being set to 0.0 in labels with no true samples. Use `zero_division` parameter to control this behavior.\n",
            "  _warn_prf(average, modifier, msg_start, len(result))\n"
          ]
        }
      ]
    },
    {
      "cell_type": "markdown",
      "metadata": {
        "id": "r57mYHm9XHud"
      },
      "source": [
        "Aunque el desempeño de la red neuronal no es mucho mejor al del Random Forest, sí permite visualizar que el departamento de acabados tiene dificultades logísticas. Esto es porque no es posible predecir satisfactoriamente la productividad, eso implica muchas variaciones en los procesos.\n",
        "\n",
        "Una de las posibles fallas logísticas es el flujo entre el departamento de costura y el de acabados. Eso se ve en el siguiente Scatterplot entre el WIP (work in progress) contra la variable binaria de si se trata del departamento de acabados o no (1=Sí, 0=No). _Work in progress_ se refiere al número de productos sin terminar.\n",
        "\n",
        "Como puede verse en la gráfica, el departamento de acabados no tiene WIPs. Eso indica que el flujo entre departamentos no es suficientemente bueno (porque sucede que la productividad sí es buena en el departamento de costura pero no en el de acabados, a pesar de que en el primero sí hay WIPs y en el segundo no)."
      ]
    },
    {
      "cell_type": "code",
      "metadata": {
        "colab": {
          "base_uri": "https://localhost:8080/"
        },
        "id": "iambyY-A-tdB",
        "outputId": "851d722e-a88d-43f9-c21a-0cc73d869ac1"
      },
      "source": [
        "sns.set(style='white', font_scale=1.5, rc={'figure.figsize':(7,7)})\n",
        "sns.scatterplot(x=\"wip\", y=\"dep finishing\", data=df_pw5)\n",
        "plt.title(\"Work in progress based on department\")\n",
        "plt.xlabel(\"WIP\")\n",
        "plt.ylabel(\"Finishing Department (1=Yes, 0=No)\")"
      ],
      "execution_count": null,
      "outputs": [
        {
          "output_type": "execute_result",
          "data": {
            "text/plain": [
              "Text(0, 0.5, 'Finishing Department (1=Yes, 0=No)')"
            ]
          },
          "metadata": {},
          "execution_count": 78
        },
        {
          "output_type": "display_data",
          "data": {
            "image/png": "[encoded data removed]",
            "text/plain": [
              "<Figure size 504x504 with 1 Axes>"
            ]
          },
          "metadata": {}
        }
      ]
    },
    {
      "cell_type": "markdown",
      "metadata": {
        "id": "UHUiPqLSD_ce"
      },
      "source": [
        "# Postwork 7\n",
        "- Evalúa si tu proyecto es de clasificación o de predicción. Si es de predicción te sugiero que, después de leer toda esta sección, te bases en la siguiente sección. Si tu proyecto es de clasificación, lo más probable es que hayas hecho previamente un proyecto con árboles de decisión y/o redes neuronales artificiales para clasificación.\n",
        "\n",
        "- Casarte con un único método de clasificación es algo que ningún Data Scientist debería hacer: Es importante experimentar con varios algoritmos de clasificación y ver cuál te arroja mejores resultados. A veces es importante que pensemos por qué cierto algoritmo funcionó mejor que otro. Por ejemplo: ¿será que tus datos pueden agruparse con campanas de Gauss y Naïve Bayes funciona muy bien?"
      ]
    },
    {
      "cell_type": "markdown",
      "metadata": {
        "id": "2IF0NtMFEhlt"
      },
      "source": [
        "La parte de nuestro proyecto que puede entenderse como clasficación es separar entre varias categorías. Al ser modelos que dependen de muchas variables, podría ser acertado localizar explorar ese dataframe también con el área de la agrupación. Esto es porque la parte de clasificadores es poco prometedora para estudiar al departamento de acabados.\n",
        "\n",
        "Al tratarse de la clusterización, para comparar con un tercer algoritmo paralelo al random forest y a la red neuronal, se realizó un algoritmo de k-means con 5 entroides. Sin embargo, como podrá verse a continuación, es un algoritmo que agrupa pero no en las 5 categorías que se definen con la productividad real."
      ]
    },
    {
      "cell_type": "code",
      "metadata": {
        "colab": {
          "base_uri": "https://localhost:8080/",
          "height": 583
        },
        "id": "JiJW0RsfHvfR",
        "outputId": "0a74db96-42c1-45a2-bc44-56c4abfc18ba"
      },
      "source": [
        "kmeans=KMeans(n_clusters=5, init='k-means++')\n",
        "\n",
        "X = df_classifier.drop(columns=\"actual_productivity\")\n",
        "\n",
        "kmeans.fit(X)\n",
        "clusters = kmeans.fit_predict(X)\n",
        "\n",
        "df_classifier[\"Label\"] = clusters\n",
        "\n",
        "plt.scatter(df_classifier.over_time[df_classifier.Label==0], df_classifier.actual_productivity[df_classifier.Label==0], color='yellow')\n",
        "plt.scatter(df_classifier.over_time[df_classifier.Label==1], df_classifier.actual_productivity[df_classifier.Label==1], color='orange')\n",
        "plt.scatter(df_classifier.over_time[df_classifier.Label==2], df_classifier.actual_productivity[df_classifier.Label==2], color='red')\n",
        "plt.scatter(df_classifier.over_time[df_classifier.Label==3], df_classifier.actual_productivity[df_classifier.Label==3], color='green')\n",
        "plt.scatter(df_classifier.over_time[df_classifier.Label==4], df_classifier.actual_productivity[df_classifier.Label==4], color='blue')\n",
        "\n",
        "plt.xlabel(\"Tiempo extra\")\n",
        "plt.ylabel(\"Productividad real\")"
      ],
      "execution_count": null,
      "outputs": [
        {
          "output_type": "stream",
          "name": "stderr",
          "text": [
            "/usr/local/lib/python3.7/dist-packages/ipykernel_launcher.py:8: SettingWithCopyWarning: \n",
            "A value is trying to be set on a copy of a slice from a DataFrame.\n",
            "Try using .loc[row_indexer,col_indexer] = value instead\n",
            "\n",
            "See the caveats in the documentation: https://pandas.pydata.org/pandas-docs/stable/user_guide/indexing.html#returning-a-view-versus-a-copy\n",
            "  \n"
          ]
        },
        {
          "output_type": "execute_result",
          "data": {
            "text/plain": [
              "Text(0, 0.5, 'Productividad real')"
            ]
          },
          "metadata": {},
          "execution_count": 85
        },
        {
          "output_type": "display_data",
          "data": {
            "image/png": "[encoded data removed]",
            "text/plain": [
              "<Figure size 504x504 with 1 Axes>"
            ]
          },
          "metadata": {}
        }
      ]
    },
    {
      "cell_type": "markdown",
      "metadata": {
        "id": "DZ5RkO1CI2XK"
      },
      "source": [
        "En la gráfica anterior se muestra que los grupos generados con k-means  son \"perpendiculares\" a la productividad real. Por esto, parece que tiene más sentido explorar el departamento de acabados en términos de, por ejemplo, el tiempo extra que dedica el personal."
      ]
    }
  ]
}